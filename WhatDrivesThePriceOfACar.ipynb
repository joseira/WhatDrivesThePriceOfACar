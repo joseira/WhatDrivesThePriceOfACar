{
  "cells": [
    {
      "cell_type": "markdown",
      "metadata": {
        "id": "TU0EwCig8mpi"
      },
      "source": [
        "# What drives the price of a car?\n",
        "\n",
        "![](images/kurt.jpeg)"
      ]
    },
    {
      "cell_type": "markdown",
      "metadata": {
        "id": "LZhr9OX58mpl"
      },
      "source": [
        "**OVERVIEW**\n",
        "\n",
        "In this application, you will explore a dataset from Kaggle. The original dataset contained information on 3 million used cars. The provided dataset contains information on 426K cars to ensure speed of processing.  Your goal is to understand what factors make a car more or less expensive.  As a result of your analysis, you should provide clear recommendations to your client -- a used car dealership -- as to what consumers value in a used car."
      ]
    },
    {
      "cell_type": "markdown",
      "metadata": {
        "id": "QY46WJNp8mpl"
      },
      "source": [
        "### CRISP-DM Framework\n",
        "\n",
        "<center>\n",
        "    <img src = images/crisp.png width = 50%/>\n",
        "</center>\n",
        "\n",
        "\n",
        "To frame the task, throughout our practical applications, we will refer back to a standard process in industry for data projects called CRISP-DM.  This process provides a framework for working through a data problem.  Your first step in this application will be to read through a brief overview of CRISP-DM [here](https://mo-pcco.s3.us-east-1.amazonaws.com/BH-PCMLAI/module_11/readings_starter.zip).  After reading the overview, answer the questions below."
      ]
    },
    {
      "cell_type": "markdown",
      "metadata": {
        "id": "jqkiqhdM8mpm"
      },
      "source": [
        "### Business Understanding\n",
        "\n",
        "From a business perspective, we are tasked with identifying key drivers for used car prices.  In the CRISP-DM overview, we are asked to convert this business framing to a data problem definition.  Using a few sentences, reframe the task as a data task with the appropriate technical vocabulary."
      ]
    },
    {
      "cell_type": "markdown",
      "source": [],
      "metadata": {
        "id": "qyIVXSjIvpbh"
      }
    },
    {
      "cell_type": "markdown",
      "source": [
        "We are going to work with the Vehicles dataset.\n",
        "\n",
        "# The goal of this project is to develop a model that predicts the price of a used car based on various features, such as manufacturer, model, condition, cylinder count, fuel type, odometer reading, title status, transmission type, drive configuration, size, region, and state. This problem can be addressed by building a regression model that identifies the most significant features affecting price and uses them to generate an accurate price estimate as the output"
      ],
      "metadata": {
        "id": "vF_6_2RNhckL"
      }
    },
    {
      "cell_type": "markdown",
      "metadata": {
        "id": "i2060r_Y8mpn"
      },
      "source": [
        "### Data Understanding\n",
        "\n",
        "After considering the business understanding, we want to get familiar with our data.  Write down some steps that you would take to get to know the dataset and identify any quality issues within.  Take time to get to know the dataset and explore what information it contains and how this could be used to inform your business understanding."
      ]
    },
    {
      "cell_type": "markdown",
      "source": [
        "Import general libraries to Data Understanding"
      ],
      "metadata": {
        "id": "k9oEl10innW9"
      }
    },
    {
      "cell_type": "code",
      "execution_count": 58,
      "metadata": {
        "id": "2aUkIbKj8mpm"
      },
      "outputs": [],
      "source": [
        "import numpy as np\n",
        "import pandas as pd\n",
        "import seaborn as sns\n",
        "import matplotlib.pyplot as plt\n",
        "import plotly.graph_objs as go"
      ]
    },
    {
      "cell_type": "code",
      "execution_count": 59,
      "metadata": {
        "id": "dU2c5BB38mpn"
      },
      "outputs": [],
      "source": [
        "vehicles = pd.read_csv(\"data/vehicles.csv\")"
      ]
    },
    {
      "cell_type": "markdown",
      "source": [
        "Getting familiar with the data"
      ],
      "metadata": {
        "id": "yWj5kzGukeMF"
      }
    },
    {
      "cell_type": "code",
      "execution_count": 60,
      "metadata": {
        "colab": {
          "base_uri": "https://localhost:8080/",
          "height": 348
        },
        "id": "S8GNt93v8mpn",
        "outputId": "38413aa1-1a72-48fc-aea0-861b75d73bbe"
      },
      "outputs": [
        {
          "output_type": "execute_result",
          "data": {
            "text/plain": [
              "                id   region  price    year manufacturer  \\\n",
              "426875  7301591192  wyoming  23590  2019.0       nissan   \n",
              "426876  7301591187  wyoming  30590  2020.0        volvo   \n",
              "426877  7301591147  wyoming  34990  2020.0     cadillac   \n",
              "426878  7301591140  wyoming  28990  2018.0        lexus   \n",
              "426879  7301591129  wyoming  30590  2019.0          bmw   \n",
              "\n",
              "                           model condition    cylinders    fuel  odometer  \\\n",
              "426875         maxima s sedan 4d      good  6 cylinders     gas   32226.0   \n",
              "426876  s60 t5 momentum sedan 4d      good          NaN     gas   12029.0   \n",
              "426877          xt4 sport suv 4d      good          NaN  diesel    4174.0   \n",
              "426878           es 350 sedan 4d      good  6 cylinders     gas   30112.0   \n",
              "426879  4 series 430i gran coupe      good          NaN     gas   22716.0   \n",
              "\n",
              "       title_status transmission                VIN drive size       type  \\\n",
              "426875        clean        other  1N4AA6AV6KC367801   fwd  NaN      sedan   \n",
              "426876        clean        other  7JR102FKXLG042696   fwd  NaN      sedan   \n",
              "426877        clean        other  1GYFZFR46LF088296   NaN  NaN  hatchback   \n",
              "426878        clean        other  58ABK1GG4JU103853   fwd  NaN      sedan   \n",
              "426879        clean        other  WBA4J1C58KBM14708   rwd  NaN      coupe   \n",
              "\n",
              "       paint_color state  \n",
              "426875         NaN    wy  \n",
              "426876         red    wy  \n",
              "426877       white    wy  \n",
              "426878      silver    wy  \n",
              "426879         NaN    wy  "
            ],
            "text/html": [
              "\n",
              "  <div id=\"df-63ad56c8-6921-4e1f-880b-d4c780b5a447\" class=\"colab-df-container\">\n",
              "    <div>\n",
              "<style scoped>\n",
              "    .dataframe tbody tr th:only-of-type {\n",
              "        vertical-align: middle;\n",
              "    }\n",
              "\n",
              "    .dataframe tbody tr th {\n",
              "        vertical-align: top;\n",
              "    }\n",
              "\n",
              "    .dataframe thead th {\n",
              "        text-align: right;\n",
              "    }\n",
              "</style>\n",
              "<table border=\"1\" class=\"dataframe\">\n",
              "  <thead>\n",
              "    <tr style=\"text-align: right;\">\n",
              "      <th></th>\n",
              "      <th>id</th>\n",
              "      <th>region</th>\n",
              "      <th>price</th>\n",
              "      <th>year</th>\n",
              "      <th>manufacturer</th>\n",
              "      <th>model</th>\n",
              "      <th>condition</th>\n",
              "      <th>cylinders</th>\n",
              "      <th>fuel</th>\n",
              "      <th>odometer</th>\n",
              "      <th>title_status</th>\n",
              "      <th>transmission</th>\n",
              "      <th>VIN</th>\n",
              "      <th>drive</th>\n",
              "      <th>size</th>\n",
              "      <th>type</th>\n",
              "      <th>paint_color</th>\n",
              "      <th>state</th>\n",
              "    </tr>\n",
              "  </thead>\n",
              "  <tbody>\n",
              "    <tr>\n",
              "      <th>426875</th>\n",
              "      <td>7301591192</td>\n",
              "      <td>wyoming</td>\n",
              "      <td>23590</td>\n",
              "      <td>2019.0</td>\n",
              "      <td>nissan</td>\n",
              "      <td>maxima s sedan 4d</td>\n",
              "      <td>good</td>\n",
              "      <td>6 cylinders</td>\n",
              "      <td>gas</td>\n",
              "      <td>32226.0</td>\n",
              "      <td>clean</td>\n",
              "      <td>other</td>\n",
              "      <td>1N4AA6AV6KC367801</td>\n",
              "      <td>fwd</td>\n",
              "      <td>NaN</td>\n",
              "      <td>sedan</td>\n",
              "      <td>NaN</td>\n",
              "      <td>wy</td>\n",
              "    </tr>\n",
              "    <tr>\n",
              "      <th>426876</th>\n",
              "      <td>7301591187</td>\n",
              "      <td>wyoming</td>\n",
              "      <td>30590</td>\n",
              "      <td>2020.0</td>\n",
              "      <td>volvo</td>\n",
              "      <td>s60 t5 momentum sedan 4d</td>\n",
              "      <td>good</td>\n",
              "      <td>NaN</td>\n",
              "      <td>gas</td>\n",
              "      <td>12029.0</td>\n",
              "      <td>clean</td>\n",
              "      <td>other</td>\n",
              "      <td>7JR102FKXLG042696</td>\n",
              "      <td>fwd</td>\n",
              "      <td>NaN</td>\n",
              "      <td>sedan</td>\n",
              "      <td>red</td>\n",
              "      <td>wy</td>\n",
              "    </tr>\n",
              "    <tr>\n",
              "      <th>426877</th>\n",
              "      <td>7301591147</td>\n",
              "      <td>wyoming</td>\n",
              "      <td>34990</td>\n",
              "      <td>2020.0</td>\n",
              "      <td>cadillac</td>\n",
              "      <td>xt4 sport suv 4d</td>\n",
              "      <td>good</td>\n",
              "      <td>NaN</td>\n",
              "      <td>diesel</td>\n",
              "      <td>4174.0</td>\n",
              "      <td>clean</td>\n",
              "      <td>other</td>\n",
              "      <td>1GYFZFR46LF088296</td>\n",
              "      <td>NaN</td>\n",
              "      <td>NaN</td>\n",
              "      <td>hatchback</td>\n",
              "      <td>white</td>\n",
              "      <td>wy</td>\n",
              "    </tr>\n",
              "    <tr>\n",
              "      <th>426878</th>\n",
              "      <td>7301591140</td>\n",
              "      <td>wyoming</td>\n",
              "      <td>28990</td>\n",
              "      <td>2018.0</td>\n",
              "      <td>lexus</td>\n",
              "      <td>es 350 sedan 4d</td>\n",
              "      <td>good</td>\n",
              "      <td>6 cylinders</td>\n",
              "      <td>gas</td>\n",
              "      <td>30112.0</td>\n",
              "      <td>clean</td>\n",
              "      <td>other</td>\n",
              "      <td>58ABK1GG4JU103853</td>\n",
              "      <td>fwd</td>\n",
              "      <td>NaN</td>\n",
              "      <td>sedan</td>\n",
              "      <td>silver</td>\n",
              "      <td>wy</td>\n",
              "    </tr>\n",
              "    <tr>\n",
              "      <th>426879</th>\n",
              "      <td>7301591129</td>\n",
              "      <td>wyoming</td>\n",
              "      <td>30590</td>\n",
              "      <td>2019.0</td>\n",
              "      <td>bmw</td>\n",
              "      <td>4 series 430i gran coupe</td>\n",
              "      <td>good</td>\n",
              "      <td>NaN</td>\n",
              "      <td>gas</td>\n",
              "      <td>22716.0</td>\n",
              "      <td>clean</td>\n",
              "      <td>other</td>\n",
              "      <td>WBA4J1C58KBM14708</td>\n",
              "      <td>rwd</td>\n",
              "      <td>NaN</td>\n",
              "      <td>coupe</td>\n",
              "      <td>NaN</td>\n",
              "      <td>wy</td>\n",
              "    </tr>\n",
              "  </tbody>\n",
              "</table>\n",
              "</div>\n",
              "    <div class=\"colab-df-buttons\">\n",
              "\n",
              "  <div class=\"colab-df-container\">\n",
              "    <button class=\"colab-df-convert\" onclick=\"convertToInteractive('df-63ad56c8-6921-4e1f-880b-d4c780b5a447')\"\n",
              "            title=\"Convert this dataframe to an interactive table.\"\n",
              "            style=\"display:none;\">\n",
              "\n",
              "  <svg xmlns=\"http://www.w3.org/2000/svg\" height=\"24px\" viewBox=\"0 -960 960 960\">\n",
              "    <path d=\"M120-120v-720h720v720H120Zm60-500h600v-160H180v160Zm220 220h160v-160H400v160Zm0 220h160v-160H400v160ZM180-400h160v-160H180v160Zm440 0h160v-160H620v160ZM180-180h160v-160H180v160Zm440 0h160v-160H620v160Z\"/>\n",
              "  </svg>\n",
              "    </button>\n",
              "\n",
              "  <style>\n",
              "    .colab-df-container {\n",
              "      display:flex;\n",
              "      gap: 12px;\n",
              "    }\n",
              "\n",
              "    .colab-df-convert {\n",
              "      background-color: #E8F0FE;\n",
              "      border: none;\n",
              "      border-radius: 50%;\n",
              "      cursor: pointer;\n",
              "      display: none;\n",
              "      fill: #1967D2;\n",
              "      height: 32px;\n",
              "      padding: 0 0 0 0;\n",
              "      width: 32px;\n",
              "    }\n",
              "\n",
              "    .colab-df-convert:hover {\n",
              "      background-color: #E2EBFA;\n",
              "      box-shadow: 0px 1px 2px rgba(60, 64, 67, 0.3), 0px 1px 3px 1px rgba(60, 64, 67, 0.15);\n",
              "      fill: #174EA6;\n",
              "    }\n",
              "\n",
              "    .colab-df-buttons div {\n",
              "      margin-bottom: 4px;\n",
              "    }\n",
              "\n",
              "    [theme=dark] .colab-df-convert {\n",
              "      background-color: #3B4455;\n",
              "      fill: #D2E3FC;\n",
              "    }\n",
              "\n",
              "    [theme=dark] .colab-df-convert:hover {\n",
              "      background-color: #434B5C;\n",
              "      box-shadow: 0px 1px 3px 1px rgba(0, 0, 0, 0.15);\n",
              "      filter: drop-shadow(0px 1px 2px rgba(0, 0, 0, 0.3));\n",
              "      fill: #FFFFFF;\n",
              "    }\n",
              "  </style>\n",
              "\n",
              "    <script>\n",
              "      const buttonEl =\n",
              "        document.querySelector('#df-63ad56c8-6921-4e1f-880b-d4c780b5a447 button.colab-df-convert');\n",
              "      buttonEl.style.display =\n",
              "        google.colab.kernel.accessAllowed ? 'block' : 'none';\n",
              "\n",
              "      async function convertToInteractive(key) {\n",
              "        const element = document.querySelector('#df-63ad56c8-6921-4e1f-880b-d4c780b5a447');\n",
              "        const dataTable =\n",
              "          await google.colab.kernel.invokeFunction('convertToInteractive',\n",
              "                                                    [key], {});\n",
              "        if (!dataTable) return;\n",
              "\n",
              "        const docLinkHtml = 'Like what you see? Visit the ' +\n",
              "          '<a target=\"_blank\" href=https://colab.research.google.com/notebooks/data_table.ipynb>data table notebook</a>'\n",
              "          + ' to learn more about interactive tables.';\n",
              "        element.innerHTML = '';\n",
              "        dataTable['output_type'] = 'display_data';\n",
              "        await google.colab.output.renderOutput(dataTable, element);\n",
              "        const docLink = document.createElement('div');\n",
              "        docLink.innerHTML = docLinkHtml;\n",
              "        element.appendChild(docLink);\n",
              "      }\n",
              "    </script>\n",
              "  </div>\n",
              "\n",
              "\n",
              "<div id=\"df-15ffb72b-0158-45db-b106-f6541e6888ba\">\n",
              "  <button class=\"colab-df-quickchart\" onclick=\"quickchart('df-15ffb72b-0158-45db-b106-f6541e6888ba')\"\n",
              "            title=\"Suggest charts\"\n",
              "            style=\"display:none;\">\n",
              "\n",
              "<svg xmlns=\"http://www.w3.org/2000/svg\" height=\"24px\"viewBox=\"0 0 24 24\"\n",
              "     width=\"24px\">\n",
              "    <g>\n",
              "        <path d=\"M19 3H5c-1.1 0-2 .9-2 2v14c0 1.1.9 2 2 2h14c1.1 0 2-.9 2-2V5c0-1.1-.9-2-2-2zM9 17H7v-7h2v7zm4 0h-2V7h2v10zm4 0h-2v-4h2v4z\"/>\n",
              "    </g>\n",
              "</svg>\n",
              "  </button>\n",
              "\n",
              "<style>\n",
              "  .colab-df-quickchart {\n",
              "      --bg-color: #E8F0FE;\n",
              "      --fill-color: #1967D2;\n",
              "      --hover-bg-color: #E2EBFA;\n",
              "      --hover-fill-color: #174EA6;\n",
              "      --disabled-fill-color: #AAA;\n",
              "      --disabled-bg-color: #DDD;\n",
              "  }\n",
              "\n",
              "  [theme=dark] .colab-df-quickchart {\n",
              "      --bg-color: #3B4455;\n",
              "      --fill-color: #D2E3FC;\n",
              "      --hover-bg-color: #434B5C;\n",
              "      --hover-fill-color: #FFFFFF;\n",
              "      --disabled-bg-color: #3B4455;\n",
              "      --disabled-fill-color: #666;\n",
              "  }\n",
              "\n",
              "  .colab-df-quickchart {\n",
              "    background-color: var(--bg-color);\n",
              "    border: none;\n",
              "    border-radius: 50%;\n",
              "    cursor: pointer;\n",
              "    display: none;\n",
              "    fill: var(--fill-color);\n",
              "    height: 32px;\n",
              "    padding: 0;\n",
              "    width: 32px;\n",
              "  }\n",
              "\n",
              "  .colab-df-quickchart:hover {\n",
              "    background-color: var(--hover-bg-color);\n",
              "    box-shadow: 0 1px 2px rgba(60, 64, 67, 0.3), 0 1px 3px 1px rgba(60, 64, 67, 0.15);\n",
              "    fill: var(--button-hover-fill-color);\n",
              "  }\n",
              "\n",
              "  .colab-df-quickchart-complete:disabled,\n",
              "  .colab-df-quickchart-complete:disabled:hover {\n",
              "    background-color: var(--disabled-bg-color);\n",
              "    fill: var(--disabled-fill-color);\n",
              "    box-shadow: none;\n",
              "  }\n",
              "\n",
              "  .colab-df-spinner {\n",
              "    border: 2px solid var(--fill-color);\n",
              "    border-color: transparent;\n",
              "    border-bottom-color: var(--fill-color);\n",
              "    animation:\n",
              "      spin 1s steps(1) infinite;\n",
              "  }\n",
              "\n",
              "  @keyframes spin {\n",
              "    0% {\n",
              "      border-color: transparent;\n",
              "      border-bottom-color: var(--fill-color);\n",
              "      border-left-color: var(--fill-color);\n",
              "    }\n",
              "    20% {\n",
              "      border-color: transparent;\n",
              "      border-left-color: var(--fill-color);\n",
              "      border-top-color: var(--fill-color);\n",
              "    }\n",
              "    30% {\n",
              "      border-color: transparent;\n",
              "      border-left-color: var(--fill-color);\n",
              "      border-top-color: var(--fill-color);\n",
              "      border-right-color: var(--fill-color);\n",
              "    }\n",
              "    40% {\n",
              "      border-color: transparent;\n",
              "      border-right-color: var(--fill-color);\n",
              "      border-top-color: var(--fill-color);\n",
              "    }\n",
              "    60% {\n",
              "      border-color: transparent;\n",
              "      border-right-color: var(--fill-color);\n",
              "    }\n",
              "    80% {\n",
              "      border-color: transparent;\n",
              "      border-right-color: var(--fill-color);\n",
              "      border-bottom-color: var(--fill-color);\n",
              "    }\n",
              "    90% {\n",
              "      border-color: transparent;\n",
              "      border-bottom-color: var(--fill-color);\n",
              "    }\n",
              "  }\n",
              "</style>\n",
              "\n",
              "  <script>\n",
              "    async function quickchart(key) {\n",
              "      const quickchartButtonEl =\n",
              "        document.querySelector('#' + key + ' button');\n",
              "      quickchartButtonEl.disabled = true;  // To prevent multiple clicks.\n",
              "      quickchartButtonEl.classList.add('colab-df-spinner');\n",
              "      try {\n",
              "        const charts = await google.colab.kernel.invokeFunction(\n",
              "            'suggestCharts', [key], {});\n",
              "      } catch (error) {\n",
              "        console.error('Error during call to suggestCharts:', error);\n",
              "      }\n",
              "      quickchartButtonEl.classList.remove('colab-df-spinner');\n",
              "      quickchartButtonEl.classList.add('colab-df-quickchart-complete');\n",
              "    }\n",
              "    (() => {\n",
              "      let quickchartButtonEl =\n",
              "        document.querySelector('#df-15ffb72b-0158-45db-b106-f6541e6888ba button');\n",
              "      quickchartButtonEl.style.display =\n",
              "        google.colab.kernel.accessAllowed ? 'block' : 'none';\n",
              "    })();\n",
              "  </script>\n",
              "</div>\n",
              "\n",
              "    </div>\n",
              "  </div>\n"
            ],
            "application/vnd.google.colaboratory.intrinsic+json": {
              "type": "dataframe",
              "repr_error": "0"
            }
          },
          "metadata": {},
          "execution_count": 60
        }
      ],
      "source": [
        "vehicles.tail()"
      ]
    },
    {
      "cell_type": "code",
      "execution_count": 61,
      "metadata": {
        "colab": {
          "base_uri": "https://localhost:8080/"
        },
        "id": "yQvDso0A8mpn",
        "outputId": "7c453e2b-b83f-4599-c3c3-07cdb219835c"
      },
      "outputs": [
        {
          "output_type": "stream",
          "name": "stdout",
          "text": [
            "<class 'pandas.core.frame.DataFrame'>\n",
            "RangeIndex: 426880 entries, 0 to 426879\n",
            "Data columns (total 18 columns):\n",
            " #   Column        Non-Null Count   Dtype  \n",
            "---  ------        --------------   -----  \n",
            " 0   id            426880 non-null  int64  \n",
            " 1   region        426880 non-null  object \n",
            " 2   price         426880 non-null  int64  \n",
            " 3   year          425675 non-null  float64\n",
            " 4   manufacturer  409234 non-null  object \n",
            " 5   model         421603 non-null  object \n",
            " 6   condition     252776 non-null  object \n",
            " 7   cylinders     249202 non-null  object \n",
            " 8   fuel          423867 non-null  object \n",
            " 9   odometer      422480 non-null  float64\n",
            " 10  title_status  418638 non-null  object \n",
            " 11  transmission  424324 non-null  object \n",
            " 12  VIN           265838 non-null  object \n",
            " 13  drive         296313 non-null  object \n",
            " 14  size          120519 non-null  object \n",
            " 15  type          334022 non-null  object \n",
            " 16  paint_color   296677 non-null  object \n",
            " 17  state         426880 non-null  object \n",
            "dtypes: float64(2), int64(2), object(14)\n",
            "memory usage: 58.6+ MB\n"
          ]
        }
      ],
      "source": [
        "vehicles.info()"
      ]
    },
    {
      "cell_type": "markdown",
      "source": [
        "\n",
        "The features that potentially influence the price of used cars: year, manufacturer, model, condition, cylinders, fuel, odometer, title_status, trasmission, size, type, paint_color, state, region\n"
      ],
      "metadata": {
        "id": "7W-OKK1UAi9G"
      }
    },
    {
      "cell_type": "code",
      "source": [
        "vehicles.isnull().sum()"
      ],
      "metadata": {
        "colab": {
          "base_uri": "https://localhost:8080/",
          "height": 649
        },
        "id": "9-9J4gRG_lDN",
        "outputId": "4299efa8-cbf5-41fe-b498-d92781b104f9"
      },
      "execution_count": 62,
      "outputs": [
        {
          "output_type": "execute_result",
          "data": {
            "text/plain": [
              "id                   0\n",
              "region               0\n",
              "price                0\n",
              "year              1205\n",
              "manufacturer     17646\n",
              "model             5277\n",
              "condition       174104\n",
              "cylinders       177678\n",
              "fuel              3013\n",
              "odometer          4400\n",
              "title_status      8242\n",
              "transmission      2556\n",
              "VIN             161042\n",
              "drive           130567\n",
              "size            306361\n",
              "type             92858\n",
              "paint_color     130203\n",
              "state                0\n",
              "dtype: int64"
            ],
            "text/html": [
              "<div>\n",
              "<style scoped>\n",
              "    .dataframe tbody tr th:only-of-type {\n",
              "        vertical-align: middle;\n",
              "    }\n",
              "\n",
              "    .dataframe tbody tr th {\n",
              "        vertical-align: top;\n",
              "    }\n",
              "\n",
              "    .dataframe thead th {\n",
              "        text-align: right;\n",
              "    }\n",
              "</style>\n",
              "<table border=\"1\" class=\"dataframe\">\n",
              "  <thead>\n",
              "    <tr style=\"text-align: right;\">\n",
              "      <th></th>\n",
              "      <th>0</th>\n",
              "    </tr>\n",
              "  </thead>\n",
              "  <tbody>\n",
              "    <tr>\n",
              "      <th>id</th>\n",
              "      <td>0</td>\n",
              "    </tr>\n",
              "    <tr>\n",
              "      <th>region</th>\n",
              "      <td>0</td>\n",
              "    </tr>\n",
              "    <tr>\n",
              "      <th>price</th>\n",
              "      <td>0</td>\n",
              "    </tr>\n",
              "    <tr>\n",
              "      <th>year</th>\n",
              "      <td>1205</td>\n",
              "    </tr>\n",
              "    <tr>\n",
              "      <th>manufacturer</th>\n",
              "      <td>17646</td>\n",
              "    </tr>\n",
              "    <tr>\n",
              "      <th>model</th>\n",
              "      <td>5277</td>\n",
              "    </tr>\n",
              "    <tr>\n",
              "      <th>condition</th>\n",
              "      <td>174104</td>\n",
              "    </tr>\n",
              "    <tr>\n",
              "      <th>cylinders</th>\n",
              "      <td>177678</td>\n",
              "    </tr>\n",
              "    <tr>\n",
              "      <th>fuel</th>\n",
              "      <td>3013</td>\n",
              "    </tr>\n",
              "    <tr>\n",
              "      <th>odometer</th>\n",
              "      <td>4400</td>\n",
              "    </tr>\n",
              "    <tr>\n",
              "      <th>title_status</th>\n",
              "      <td>8242</td>\n",
              "    </tr>\n",
              "    <tr>\n",
              "      <th>transmission</th>\n",
              "      <td>2556</td>\n",
              "    </tr>\n",
              "    <tr>\n",
              "      <th>VIN</th>\n",
              "      <td>161042</td>\n",
              "    </tr>\n",
              "    <tr>\n",
              "      <th>drive</th>\n",
              "      <td>130567</td>\n",
              "    </tr>\n",
              "    <tr>\n",
              "      <th>size</th>\n",
              "      <td>306361</td>\n",
              "    </tr>\n",
              "    <tr>\n",
              "      <th>type</th>\n",
              "      <td>92858</td>\n",
              "    </tr>\n",
              "    <tr>\n",
              "      <th>paint_color</th>\n",
              "      <td>130203</td>\n",
              "    </tr>\n",
              "    <tr>\n",
              "      <th>state</th>\n",
              "      <td>0</td>\n",
              "    </tr>\n",
              "  </tbody>\n",
              "</table>\n",
              "</div><br><label><b>dtype:</b> int64</label>"
            ]
          },
          "metadata": {},
          "execution_count": 62
        }
      ]
    },
    {
      "cell_type": "code",
      "source": [
        "vehicles = vehicles.convert_dtypes()\n",
        "vehicles.describe(include=['string'])"
      ],
      "metadata": {
        "colab": {
          "base_uri": "https://localhost:8080/",
          "height": 175
        },
        "id": "knHaUpwzJb6S",
        "outputId": "6859a2d7-4af0-4141-94fe-3545f65279c7"
      },
      "execution_count": 63,
      "outputs": [
        {
          "output_type": "execute_result",
          "data": {
            "text/plain": [
              "          region manufacturer   model condition    cylinders    fuel  \\\n",
              "count     426880       409234  421603    252776       249202  423867   \n",
              "unique       404           42   29649         6            8       5   \n",
              "top     columbus         ford   f-150      good  6 cylinders     gas   \n",
              "freq        3608        70985    8009    121456        94169  356209   \n",
              "\n",
              "       title_status transmission                VIN   drive       size  \\\n",
              "count        418638       424324             265838  296313     120519   \n",
              "unique            6            3             118246       3          4   \n",
              "top           clean    automatic  1FMJU1JT1HEA52352     4wd  full-size   \n",
              "freq         405117       336524                261  131904      63465   \n",
              "\n",
              "          type paint_color   state  \n",
              "count   334022      296677  426880  \n",
              "unique      13          12      51  \n",
              "top      sedan       white      ca  \n",
              "freq     87056       79285   50614  "
            ],
            "text/html": [
              "\n",
              "  <div id=\"df-7c3d11d1-0f81-4f94-9d7e-4b5f219f544c\" class=\"colab-df-container\">\n",
              "    <div>\n",
              "<style scoped>\n",
              "    .dataframe tbody tr th:only-of-type {\n",
              "        vertical-align: middle;\n",
              "    }\n",
              "\n",
              "    .dataframe tbody tr th {\n",
              "        vertical-align: top;\n",
              "    }\n",
              "\n",
              "    .dataframe thead th {\n",
              "        text-align: right;\n",
              "    }\n",
              "</style>\n",
              "<table border=\"1\" class=\"dataframe\">\n",
              "  <thead>\n",
              "    <tr style=\"text-align: right;\">\n",
              "      <th></th>\n",
              "      <th>region</th>\n",
              "      <th>manufacturer</th>\n",
              "      <th>model</th>\n",
              "      <th>condition</th>\n",
              "      <th>cylinders</th>\n",
              "      <th>fuel</th>\n",
              "      <th>title_status</th>\n",
              "      <th>transmission</th>\n",
              "      <th>VIN</th>\n",
              "      <th>drive</th>\n",
              "      <th>size</th>\n",
              "      <th>type</th>\n",
              "      <th>paint_color</th>\n",
              "      <th>state</th>\n",
              "    </tr>\n",
              "  </thead>\n",
              "  <tbody>\n",
              "    <tr>\n",
              "      <th>count</th>\n",
              "      <td>426880</td>\n",
              "      <td>409234</td>\n",
              "      <td>421603</td>\n",
              "      <td>252776</td>\n",
              "      <td>249202</td>\n",
              "      <td>423867</td>\n",
              "      <td>418638</td>\n",
              "      <td>424324</td>\n",
              "      <td>265838</td>\n",
              "      <td>296313</td>\n",
              "      <td>120519</td>\n",
              "      <td>334022</td>\n",
              "      <td>296677</td>\n",
              "      <td>426880</td>\n",
              "    </tr>\n",
              "    <tr>\n",
              "      <th>unique</th>\n",
              "      <td>404</td>\n",
              "      <td>42</td>\n",
              "      <td>29649</td>\n",
              "      <td>6</td>\n",
              "      <td>8</td>\n",
              "      <td>5</td>\n",
              "      <td>6</td>\n",
              "      <td>3</td>\n",
              "      <td>118246</td>\n",
              "      <td>3</td>\n",
              "      <td>4</td>\n",
              "      <td>13</td>\n",
              "      <td>12</td>\n",
              "      <td>51</td>\n",
              "    </tr>\n",
              "    <tr>\n",
              "      <th>top</th>\n",
              "      <td>columbus</td>\n",
              "      <td>ford</td>\n",
              "      <td>f-150</td>\n",
              "      <td>good</td>\n",
              "      <td>6 cylinders</td>\n",
              "      <td>gas</td>\n",
              "      <td>clean</td>\n",
              "      <td>automatic</td>\n",
              "      <td>1FMJU1JT1HEA52352</td>\n",
              "      <td>4wd</td>\n",
              "      <td>full-size</td>\n",
              "      <td>sedan</td>\n",
              "      <td>white</td>\n",
              "      <td>ca</td>\n",
              "    </tr>\n",
              "    <tr>\n",
              "      <th>freq</th>\n",
              "      <td>3608</td>\n",
              "      <td>70985</td>\n",
              "      <td>8009</td>\n",
              "      <td>121456</td>\n",
              "      <td>94169</td>\n",
              "      <td>356209</td>\n",
              "      <td>405117</td>\n",
              "      <td>336524</td>\n",
              "      <td>261</td>\n",
              "      <td>131904</td>\n",
              "      <td>63465</td>\n",
              "      <td>87056</td>\n",
              "      <td>79285</td>\n",
              "      <td>50614</td>\n",
              "    </tr>\n",
              "  </tbody>\n",
              "</table>\n",
              "</div>\n",
              "    <div class=\"colab-df-buttons\">\n",
              "\n",
              "  <div class=\"colab-df-container\">\n",
              "    <button class=\"colab-df-convert\" onclick=\"convertToInteractive('df-7c3d11d1-0f81-4f94-9d7e-4b5f219f544c')\"\n",
              "            title=\"Convert this dataframe to an interactive table.\"\n",
              "            style=\"display:none;\">\n",
              "\n",
              "  <svg xmlns=\"http://www.w3.org/2000/svg\" height=\"24px\" viewBox=\"0 -960 960 960\">\n",
              "    <path d=\"M120-120v-720h720v720H120Zm60-500h600v-160H180v160Zm220 220h160v-160H400v160Zm0 220h160v-160H400v160ZM180-400h160v-160H180v160Zm440 0h160v-160H620v160ZM180-180h160v-160H180v160Zm440 0h160v-160H620v160Z\"/>\n",
              "  </svg>\n",
              "    </button>\n",
              "\n",
              "  <style>\n",
              "    .colab-df-container {\n",
              "      display:flex;\n",
              "      gap: 12px;\n",
              "    }\n",
              "\n",
              "    .colab-df-convert {\n",
              "      background-color: #E8F0FE;\n",
              "      border: none;\n",
              "      border-radius: 50%;\n",
              "      cursor: pointer;\n",
              "      display: none;\n",
              "      fill: #1967D2;\n",
              "      height: 32px;\n",
              "      padding: 0 0 0 0;\n",
              "      width: 32px;\n",
              "    }\n",
              "\n",
              "    .colab-df-convert:hover {\n",
              "      background-color: #E2EBFA;\n",
              "      box-shadow: 0px 1px 2px rgba(60, 64, 67, 0.3), 0px 1px 3px 1px rgba(60, 64, 67, 0.15);\n",
              "      fill: #174EA6;\n",
              "    }\n",
              "\n",
              "    .colab-df-buttons div {\n",
              "      margin-bottom: 4px;\n",
              "    }\n",
              "\n",
              "    [theme=dark] .colab-df-convert {\n",
              "      background-color: #3B4455;\n",
              "      fill: #D2E3FC;\n",
              "    }\n",
              "\n",
              "    [theme=dark] .colab-df-convert:hover {\n",
              "      background-color: #434B5C;\n",
              "      box-shadow: 0px 1px 3px 1px rgba(0, 0, 0, 0.15);\n",
              "      filter: drop-shadow(0px 1px 2px rgba(0, 0, 0, 0.3));\n",
              "      fill: #FFFFFF;\n",
              "    }\n",
              "  </style>\n",
              "\n",
              "    <script>\n",
              "      const buttonEl =\n",
              "        document.querySelector('#df-7c3d11d1-0f81-4f94-9d7e-4b5f219f544c button.colab-df-convert');\n",
              "      buttonEl.style.display =\n",
              "        google.colab.kernel.accessAllowed ? 'block' : 'none';\n",
              "\n",
              "      async function convertToInteractive(key) {\n",
              "        const element = document.querySelector('#df-7c3d11d1-0f81-4f94-9d7e-4b5f219f544c');\n",
              "        const dataTable =\n",
              "          await google.colab.kernel.invokeFunction('convertToInteractive',\n",
              "                                                    [key], {});\n",
              "        if (!dataTable) return;\n",
              "\n",
              "        const docLinkHtml = 'Like what you see? Visit the ' +\n",
              "          '<a target=\"_blank\" href=https://colab.research.google.com/notebooks/data_table.ipynb>data table notebook</a>'\n",
              "          + ' to learn more about interactive tables.';\n",
              "        element.innerHTML = '';\n",
              "        dataTable['output_type'] = 'display_data';\n",
              "        await google.colab.output.renderOutput(dataTable, element);\n",
              "        const docLink = document.createElement('div');\n",
              "        docLink.innerHTML = docLinkHtml;\n",
              "        element.appendChild(docLink);\n",
              "      }\n",
              "    </script>\n",
              "  </div>\n",
              "\n",
              "\n",
              "<div id=\"df-0c2d09f8-a979-4d9f-86ea-54a0882c39a6\">\n",
              "  <button class=\"colab-df-quickchart\" onclick=\"quickchart('df-0c2d09f8-a979-4d9f-86ea-54a0882c39a6')\"\n",
              "            title=\"Suggest charts\"\n",
              "            style=\"display:none;\">\n",
              "\n",
              "<svg xmlns=\"http://www.w3.org/2000/svg\" height=\"24px\"viewBox=\"0 0 24 24\"\n",
              "     width=\"24px\">\n",
              "    <g>\n",
              "        <path d=\"M19 3H5c-1.1 0-2 .9-2 2v14c0 1.1.9 2 2 2h14c1.1 0 2-.9 2-2V5c0-1.1-.9-2-2-2zM9 17H7v-7h2v7zm4 0h-2V7h2v10zm4 0h-2v-4h2v4z\"/>\n",
              "    </g>\n",
              "</svg>\n",
              "  </button>\n",
              "\n",
              "<style>\n",
              "  .colab-df-quickchart {\n",
              "      --bg-color: #E8F0FE;\n",
              "      --fill-color: #1967D2;\n",
              "      --hover-bg-color: #E2EBFA;\n",
              "      --hover-fill-color: #174EA6;\n",
              "      --disabled-fill-color: #AAA;\n",
              "      --disabled-bg-color: #DDD;\n",
              "  }\n",
              "\n",
              "  [theme=dark] .colab-df-quickchart {\n",
              "      --bg-color: #3B4455;\n",
              "      --fill-color: #D2E3FC;\n",
              "      --hover-bg-color: #434B5C;\n",
              "      --hover-fill-color: #FFFFFF;\n",
              "      --disabled-bg-color: #3B4455;\n",
              "      --disabled-fill-color: #666;\n",
              "  }\n",
              "\n",
              "  .colab-df-quickchart {\n",
              "    background-color: var(--bg-color);\n",
              "    border: none;\n",
              "    border-radius: 50%;\n",
              "    cursor: pointer;\n",
              "    display: none;\n",
              "    fill: var(--fill-color);\n",
              "    height: 32px;\n",
              "    padding: 0;\n",
              "    width: 32px;\n",
              "  }\n",
              "\n",
              "  .colab-df-quickchart:hover {\n",
              "    background-color: var(--hover-bg-color);\n",
              "    box-shadow: 0 1px 2px rgba(60, 64, 67, 0.3), 0 1px 3px 1px rgba(60, 64, 67, 0.15);\n",
              "    fill: var(--button-hover-fill-color);\n",
              "  }\n",
              "\n",
              "  .colab-df-quickchart-complete:disabled,\n",
              "  .colab-df-quickchart-complete:disabled:hover {\n",
              "    background-color: var(--disabled-bg-color);\n",
              "    fill: var(--disabled-fill-color);\n",
              "    box-shadow: none;\n",
              "  }\n",
              "\n",
              "  .colab-df-spinner {\n",
              "    border: 2px solid var(--fill-color);\n",
              "    border-color: transparent;\n",
              "    border-bottom-color: var(--fill-color);\n",
              "    animation:\n",
              "      spin 1s steps(1) infinite;\n",
              "  }\n",
              "\n",
              "  @keyframes spin {\n",
              "    0% {\n",
              "      border-color: transparent;\n",
              "      border-bottom-color: var(--fill-color);\n",
              "      border-left-color: var(--fill-color);\n",
              "    }\n",
              "    20% {\n",
              "      border-color: transparent;\n",
              "      border-left-color: var(--fill-color);\n",
              "      border-top-color: var(--fill-color);\n",
              "    }\n",
              "    30% {\n",
              "      border-color: transparent;\n",
              "      border-left-color: var(--fill-color);\n",
              "      border-top-color: var(--fill-color);\n",
              "      border-right-color: var(--fill-color);\n",
              "    }\n",
              "    40% {\n",
              "      border-color: transparent;\n",
              "      border-right-color: var(--fill-color);\n",
              "      border-top-color: var(--fill-color);\n",
              "    }\n",
              "    60% {\n",
              "      border-color: transparent;\n",
              "      border-right-color: var(--fill-color);\n",
              "    }\n",
              "    80% {\n",
              "      border-color: transparent;\n",
              "      border-right-color: var(--fill-color);\n",
              "      border-bottom-color: var(--fill-color);\n",
              "    }\n",
              "    90% {\n",
              "      border-color: transparent;\n",
              "      border-bottom-color: var(--fill-color);\n",
              "    }\n",
              "  }\n",
              "</style>\n",
              "\n",
              "  <script>\n",
              "    async function quickchart(key) {\n",
              "      const quickchartButtonEl =\n",
              "        document.querySelector('#' + key + ' button');\n",
              "      quickchartButtonEl.disabled = true;  // To prevent multiple clicks.\n",
              "      quickchartButtonEl.classList.add('colab-df-spinner');\n",
              "      try {\n",
              "        const charts = await google.colab.kernel.invokeFunction(\n",
              "            'suggestCharts', [key], {});\n",
              "      } catch (error) {\n",
              "        console.error('Error during call to suggestCharts:', error);\n",
              "      }\n",
              "      quickchartButtonEl.classList.remove('colab-df-spinner');\n",
              "      quickchartButtonEl.classList.add('colab-df-quickchart-complete');\n",
              "    }\n",
              "    (() => {\n",
              "      let quickchartButtonEl =\n",
              "        document.querySelector('#df-0c2d09f8-a979-4d9f-86ea-54a0882c39a6 button');\n",
              "      quickchartButtonEl.style.display =\n",
              "        google.colab.kernel.accessAllowed ? 'block' : 'none';\n",
              "    })();\n",
              "  </script>\n",
              "</div>\n",
              "\n",
              "    </div>\n",
              "  </div>\n"
            ],
            "application/vnd.google.colaboratory.intrinsic+json": {
              "type": "dataframe",
              "summary": "{\n  \"name\": \"vehicles\",\n  \"rows\": 4,\n  \"fields\": [\n    {\n      \"column\": \"region\",\n      \"properties\": {\n        \"dtype\": \"string\",\n        \"num_unique_values\": 4,\n        \"samples\": [\n          404,\n          \"3608\",\n          \"426880\"\n        ],\n        \"semantic_type\": \"\",\n        \"description\": \"\"\n      }\n    },\n    {\n      \"column\": \"manufacturer\",\n      \"properties\": {\n        \"dtype\": \"string\",\n        \"num_unique_values\": 4,\n        \"samples\": [\n          42,\n          \"70985\",\n          \"409234\"\n        ],\n        \"semantic_type\": \"\",\n        \"description\": \"\"\n      }\n    },\n    {\n      \"column\": \"model\",\n      \"properties\": {\n        \"dtype\": \"string\",\n        \"num_unique_values\": 4,\n        \"samples\": [\n          29649,\n          \"8009\",\n          \"421603\"\n        ],\n        \"semantic_type\": \"\",\n        \"description\": \"\"\n      }\n    },\n    {\n      \"column\": \"condition\",\n      \"properties\": {\n        \"dtype\": \"string\",\n        \"num_unique_values\": 4,\n        \"samples\": [\n          6,\n          \"121456\",\n          \"252776\"\n        ],\n        \"semantic_type\": \"\",\n        \"description\": \"\"\n      }\n    },\n    {\n      \"column\": \"cylinders\",\n      \"properties\": {\n        \"dtype\": \"string\",\n        \"num_unique_values\": 4,\n        \"samples\": [\n          8,\n          \"94169\",\n          \"249202\"\n        ],\n        \"semantic_type\": \"\",\n        \"description\": \"\"\n      }\n    },\n    {\n      \"column\": \"fuel\",\n      \"properties\": {\n        \"dtype\": \"string\",\n        \"num_unique_values\": 4,\n        \"samples\": [\n          5,\n          \"356209\",\n          \"423867\"\n        ],\n        \"semantic_type\": \"\",\n        \"description\": \"\"\n      }\n    },\n    {\n      \"column\": \"title_status\",\n      \"properties\": {\n        \"dtype\": \"string\",\n        \"num_unique_values\": 4,\n        \"samples\": [\n          6,\n          \"405117\",\n          \"418638\"\n        ],\n        \"semantic_type\": \"\",\n        \"description\": \"\"\n      }\n    },\n    {\n      \"column\": \"transmission\",\n      \"properties\": {\n        \"dtype\": \"string\",\n        \"num_unique_values\": 4,\n        \"samples\": [\n          3,\n          \"336524\",\n          \"424324\"\n        ],\n        \"semantic_type\": \"\",\n        \"description\": \"\"\n      }\n    },\n    {\n      \"column\": \"VIN\",\n      \"properties\": {\n        \"dtype\": \"string\",\n        \"num_unique_values\": 4,\n        \"samples\": [\n          118246,\n          \"261\",\n          \"265838\"\n        ],\n        \"semantic_type\": \"\",\n        \"description\": \"\"\n      }\n    },\n    {\n      \"column\": \"drive\",\n      \"properties\": {\n        \"dtype\": \"string\",\n        \"num_unique_values\": 4,\n        \"samples\": [\n          3,\n          \"131904\",\n          \"296313\"\n        ],\n        \"semantic_type\": \"\",\n        \"description\": \"\"\n      }\n    },\n    {\n      \"column\": \"size\",\n      \"properties\": {\n        \"dtype\": \"string\",\n        \"num_unique_values\": 4,\n        \"samples\": [\n          4,\n          \"63465\",\n          \"120519\"\n        ],\n        \"semantic_type\": \"\",\n        \"description\": \"\"\n      }\n    },\n    {\n      \"column\": \"type\",\n      \"properties\": {\n        \"dtype\": \"string\",\n        \"num_unique_values\": 4,\n        \"samples\": [\n          13,\n          \"87056\",\n          \"334022\"\n        ],\n        \"semantic_type\": \"\",\n        \"description\": \"\"\n      }\n    },\n    {\n      \"column\": \"paint_color\",\n      \"properties\": {\n        \"dtype\": \"string\",\n        \"num_unique_values\": 4,\n        \"samples\": [\n          12,\n          \"79285\",\n          \"296677\"\n        ],\n        \"semantic_type\": \"\",\n        \"description\": \"\"\n      }\n    },\n    {\n      \"column\": \"state\",\n      \"properties\": {\n        \"dtype\": \"string\",\n        \"num_unique_values\": 4,\n        \"samples\": [\n          51,\n          \"50614\",\n          \"426880\"\n        ],\n        \"semantic_type\": \"\",\n        \"description\": \"\"\n      }\n    }\n  ]\n}"
            }
          },
          "metadata": {},
          "execution_count": 63
        }
      ]
    },
    {
      "cell_type": "code",
      "source": [
        "vehicles[\"odometer\"].hist()\n",
        "plt.title('Odometer Histogram')\n",
        "plt.xlabel('Odometer')\n",
        "plt.ylabel('Record Number')\n",
        "plt.show()"
      ],
      "metadata": {
        "colab": {
          "base_uri": "https://localhost:8080/",
          "height": 472
        },
        "id": "oHzfEZItJbaa",
        "outputId": "bd10cf7b-be99-49db-c405-0fa5ab5ae523"
      },
      "execution_count": 64,
      "outputs": [
        {
          "output_type": "display_data",
          "data": {
            "text/plain": [
              "<Figure size 640x480 with 1 Axes>"
            ],
            "image/png": "[encoded data removed]"
          },
          "metadata": {}
        }
      ]
    },
    {
      "cell_type": "markdown",
      "source": [
        "Evaluate how many values are equal to 0 in all columns"
      ],
      "metadata": {
        "id": "K6G88kXbtcLp"
      }
    },
    {
      "cell_type": "code",
      "source": [
        "vehicles.eq(0).sum()"
      ],
      "metadata": {
        "colab": {
          "base_uri": "https://localhost:8080/",
          "height": 649
        },
        "id": "ZGsYKOjJKIW_",
        "outputId": "9f3335ec-4cfe-4d7e-e6a5-fca10fe44333"
      },
      "execution_count": 65,
      "outputs": [
        {
          "output_type": "execute_result",
          "data": {
            "text/plain": [
              "id                  0\n",
              "region              0\n",
              "price           32895\n",
              "year                0\n",
              "manufacturer        0\n",
              "model               0\n",
              "condition           0\n",
              "cylinders           0\n",
              "fuel                0\n",
              "odometer         1965\n",
              "title_status        0\n",
              "transmission        0\n",
              "VIN                 0\n",
              "drive               0\n",
              "size                0\n",
              "type                0\n",
              "paint_color         0\n",
              "state               0\n",
              "dtype: Int64"
            ],
            "text/html": [
              "<div>\n",
              "<style scoped>\n",
              "    .dataframe tbody tr th:only-of-type {\n",
              "        vertical-align: middle;\n",
              "    }\n",
              "\n",
              "    .dataframe tbody tr th {\n",
              "        vertical-align: top;\n",
              "    }\n",
              "\n",
              "    .dataframe thead th {\n",
              "        text-align: right;\n",
              "    }\n",
              "</style>\n",
              "<table border=\"1\" class=\"dataframe\">\n",
              "  <thead>\n",
              "    <tr style=\"text-align: right;\">\n",
              "      <th></th>\n",
              "      <th>0</th>\n",
              "    </tr>\n",
              "  </thead>\n",
              "  <tbody>\n",
              "    <tr>\n",
              "      <th>id</th>\n",
              "      <td>0</td>\n",
              "    </tr>\n",
              "    <tr>\n",
              "      <th>region</th>\n",
              "      <td>0</td>\n",
              "    </tr>\n",
              "    <tr>\n",
              "      <th>price</th>\n",
              "      <td>32895</td>\n",
              "    </tr>\n",
              "    <tr>\n",
              "      <th>year</th>\n",
              "      <td>0</td>\n",
              "    </tr>\n",
              "    <tr>\n",
              "      <th>manufacturer</th>\n",
              "      <td>0</td>\n",
              "    </tr>\n",
              "    <tr>\n",
              "      <th>model</th>\n",
              "      <td>0</td>\n",
              "    </tr>\n",
              "    <tr>\n",
              "      <th>condition</th>\n",
              "      <td>0</td>\n",
              "    </tr>\n",
              "    <tr>\n",
              "      <th>cylinders</th>\n",
              "      <td>0</td>\n",
              "    </tr>\n",
              "    <tr>\n",
              "      <th>fuel</th>\n",
              "      <td>0</td>\n",
              "    </tr>\n",
              "    <tr>\n",
              "      <th>odometer</th>\n",
              "      <td>1965</td>\n",
              "    </tr>\n",
              "    <tr>\n",
              "      <th>title_status</th>\n",
              "      <td>0</td>\n",
              "    </tr>\n",
              "    <tr>\n",
              "      <th>transmission</th>\n",
              "      <td>0</td>\n",
              "    </tr>\n",
              "    <tr>\n",
              "      <th>VIN</th>\n",
              "      <td>0</td>\n",
              "    </tr>\n",
              "    <tr>\n",
              "      <th>drive</th>\n",
              "      <td>0</td>\n",
              "    </tr>\n",
              "    <tr>\n",
              "      <th>size</th>\n",
              "      <td>0</td>\n",
              "    </tr>\n",
              "    <tr>\n",
              "      <th>type</th>\n",
              "      <td>0</td>\n",
              "    </tr>\n",
              "    <tr>\n",
              "      <th>paint_color</th>\n",
              "      <td>0</td>\n",
              "    </tr>\n",
              "    <tr>\n",
              "      <th>state</th>\n",
              "      <td>0</td>\n",
              "    </tr>\n",
              "  </tbody>\n",
              "</table>\n",
              "</div><br><label><b>dtype:</b> Int64</label>"
            ]
          },
          "metadata": {},
          "execution_count": 65
        }
      ]
    },
    {
      "cell_type": "code",
      "source": [
        "vehicles_pcero = vehicles.loc[vehicles[\"price\"] == 0]"
      ],
      "metadata": {
        "id": "nfdsXFgFiYwR"
      },
      "execution_count": 66,
      "outputs": []
    },
    {
      "cell_type": "code",
      "source": [
        "vehicles_pcero.shape"
      ],
      "metadata": {
        "colab": {
          "base_uri": "https://localhost:8080/"
        },
        "id": "A-JMFmyGV00X",
        "outputId": "b751e8b2-611a-4809-ada7-774cd9795099"
      },
      "execution_count": 67,
      "outputs": [
        {
          "output_type": "execute_result",
          "data": {
            "text/plain": [
              "(32895, 18)"
            ]
          },
          "metadata": {},
          "execution_count": 67
        }
      ]
    },
    {
      "cell_type": "markdown",
      "source": [
        "7.7% of the total records on the Dataset has price = 0. In this section we will evaluate any possible relationship with other columns but no correlation is identified."
      ],
      "metadata": {
        "id": "oRDL_7Q8VoNS"
      }
    },
    {
      "cell_type": "code",
      "source": [
        "vehicles_odocero = vehicles.loc[vehicles[\"odometer\"] == 0]"
      ],
      "metadata": {
        "id": "Umrxl0NJXNZb"
      },
      "execution_count": 68,
      "outputs": []
    },
    {
      "cell_type": "code",
      "source": [
        "vehicles_odocero.hist()"
      ],
      "metadata": {
        "colab": {
          "base_uri": "https://localhost:8080/",
          "height": 521
        },
        "id": "A3qVQe1oXcwZ",
        "outputId": "28d31046-5bac-4c12-bbb7-cf9c716f0c82"
      },
      "execution_count": 69,
      "outputs": [
        {
          "output_type": "execute_result",
          "data": {
            "text/plain": [
              "array([[<Axes: title={'center': 'id'}>,\n",
              "        <Axes: title={'center': 'price'}>],\n",
              "       [<Axes: title={'center': 'year'}>,\n",
              "        <Axes: title={'center': 'odometer'}>]], dtype=object)"
            ]
          },
          "metadata": {},
          "execution_count": 69
        },
        {
          "output_type": "display_data",
          "data": {
            "text/plain": [
              "<Figure size 640x480 with 4 Axes>"
            ],
            "image/png": "[encoded data removed]"
          },
          "metadata": {}
        }
      ]
    },
    {
      "cell_type": "code",
      "source": [
        "# Calculate the percentage of records with odometer equal to zero and price equal to zero\n",
        "odometer_zero_price_zero = vehicles[(vehicles[\"odometer\"] == 0) & (vehicles[\"price\"] == 0)].shape[0]\n",
        "odometer_zero = vehicles[vehicles[\"odometer\"] == 0].shape[0]\n",
        "percentage = (odometer_zero_price_zero / odometer_zero) * 100\n",
        "\n",
        "print(f\"{percentage:.2f}% of records with odometer equal to zero have price equal to zero.\")"
      ],
      "metadata": {
        "colab": {
          "base_uri": "https://localhost:8080/"
        },
        "id": "P_qUR9UUdz3X",
        "outputId": "89178b97-dd6c-471b-f1f0-5ee52621fd2f"
      },
      "execution_count": 70,
      "outputs": [
        {
          "output_type": "stream",
          "name": "stdout",
          "text": [
            "43.31% of records with odometer equal to zero have price equal to zero.\n"
          ]
        }
      ]
    },
    {
      "cell_type": "code",
      "source": [
        "print(vehicles_odocero['year'].value_counts().sort_values(ascending=False))"
      ],
      "metadata": {
        "colab": {
          "base_uri": "https://localhost:8080/"
        },
        "id": "tuxufTs2UUcL",
        "outputId": "702e7ea5-ea75-40a8-9d82-7b8727e97cb4"
      },
      "execution_count": 71,
      "outputs": [
        {
          "output_type": "stream",
          "name": "stdout",
          "text": [
            "year\n",
            "2014    248\n",
            "2015    196\n",
            "2016    156\n",
            "2013    144\n",
            "2021    136\n",
            "       ... \n",
            "1942      1\n",
            "1923      1\n",
            "1953      1\n",
            "1962      1\n",
            "1984      1\n",
            "Name: count, Length: 87, dtype: Int64\n"
          ]
        }
      ]
    },
    {
      "cell_type": "markdown",
      "source": [
        "Finding: 43% of the records with an odometer equal to zero have a price equal to zero too.\n",
        "\n",
        "Additionally, records with an odometer equal to zero are more inclined towards recent years, starting around 1990.\n",
        "\n",
        "A possible logical reason may be that the population has stopped smoking significantly in recent decades. It may also be related with modern cars have a better ignition system. ventilation which in careful users can result in those results.\n",
        "\n",
        "The majority of record with odometer = 0 is in 2014 cars. This can be associated with problems with odor measurement on those car, but because I don't find correlation with the data\n",
        "\n",
        "A future suggestion is investigate more the business to be able to make any infer on this feature"
      ],
      "metadata": {
        "id": "iiSPW_gwddm_"
      }
    },
    {
      "cell_type": "code",
      "source": [
        "plt.figure(figsize=(8,4))\n",
        "vehicles['price'].drop(vehicles[vehicles['price'].gt(200000)].index).hist()\n",
        "plt.title('Price Histogram')\n",
        "plt.xlabel('Price')\n",
        "plt.ylabel('Record Number')\n",
        "plt.show()"
      ],
      "metadata": {
        "colab": {
          "base_uri": "https://localhost:8080/",
          "height": 410
        },
        "id": "say_Zc0iD0Qn",
        "outputId": "20aeb1c6-1a9e-459b-b2ac-deb41d265024"
      },
      "execution_count": 72,
      "outputs": [
        {
          "output_type": "display_data",
          "data": {
            "text/plain": [
              "<Figure size 800x400 with 1 Axes>"
            ],
            "image/png": "[encoded data removed]"
          },
          "metadata": {}
        }
      ]
    },
    {
      "cell_type": "markdown",
      "source": [
        "Price > $100,000 outliers"
      ],
      "metadata": {
        "id": "eeSYgaKw2bzW"
      }
    },
    {
      "cell_type": "code",
      "source": [
        "vehicles.manufacturer.unique()\n",
        "print(vehicles['manufacturer'].value_counts())"
      ],
      "metadata": {
        "colab": {
          "base_uri": "https://localhost:8080/"
        },
        "id": "T5-SYfhLKIRF",
        "outputId": "3aa25639-4c80-4ee3-a66a-8380a5890eca"
      },
      "execution_count": 73,
      "outputs": [
        {
          "output_type": "stream",
          "name": "stdout",
          "text": [
            "manufacturer\n",
            "ford               70985\n",
            "chevrolet          55064\n",
            "toyota             34202\n",
            "honda              21269\n",
            "nissan             19067\n",
            "jeep               19014\n",
            "ram                18342\n",
            "gmc                16785\n",
            "bmw                14699\n",
            "dodge              13707\n",
            "mercedes-benz      11817\n",
            "hyundai            10338\n",
            "subaru              9495\n",
            "volkswagen          9345\n",
            "kia                 8457\n",
            "lexus               8200\n",
            "audi                7573\n",
            "cadillac            6953\n",
            "chrysler            6031\n",
            "acura               5978\n",
            "buick               5501\n",
            "mazda               5427\n",
            "infiniti            4802\n",
            "lincoln             4220\n",
            "volvo               3374\n",
            "mitsubishi          3292\n",
            "mini                2376\n",
            "pontiac             2288\n",
            "rover               2113\n",
            "jaguar              1946\n",
            "porsche             1384\n",
            "mercury             1184\n",
            "saturn              1090\n",
            "alfa-romeo           897\n",
            "tesla                868\n",
            "fiat                 792\n",
            "harley-davidson      153\n",
            "ferrari               95\n",
            "datsun                63\n",
            "aston-martin          24\n",
            "land rover            21\n",
            "morgan                 3\n",
            "Name: count, dtype: Int64\n"
          ]
        }
      ]
    },
    {
      "cell_type": "code",
      "source": [
        "vehicles.model.unique()\n",
        "print(vehicles['model'].value_counts())"
      ],
      "metadata": {
        "colab": {
          "base_uri": "https://localhost:8080/"
        },
        "id": "_lnMcDKwpi8q",
        "outputId": "1efe89b2-41b0-4396-87ba-a53bcdc94b5d"
      },
      "execution_count": 74,
      "outputs": [
        {
          "output_type": "stream",
          "name": "stdout",
          "text": [
            "model\n",
            "f-150                        8009\n",
            "silverado 1500               5140\n",
            "1500                         4211\n",
            "camry                        3135\n",
            "silverado                    3023\n",
            "                             ... \n",
            "cr-v lx automatic               1\n",
            "tacoma double cab trd 4x4       1\n",
            "avenger r/t 4dr sedan           1\n",
            "yukon xl slt suv                1\n",
            "Paige Glenbrook Touring         1\n",
            "Name: count, Length: 29649, dtype: Int64\n"
          ]
        }
      ]
    },
    {
      "cell_type": "code",
      "source": [
        "vehicles.title_status.unique()\n",
        "print(vehicles['title_status'].value_counts())"
      ],
      "metadata": {
        "colab": {
          "base_uri": "https://localhost:8080/"
        },
        "id": "CC6km4LhYK9C",
        "outputId": "95a919ec-b56a-4020-e4ff-74296c5ce621"
      },
      "execution_count": 75,
      "outputs": [
        {
          "output_type": "stream",
          "name": "stdout",
          "text": [
            "title_status\n",
            "clean         405117\n",
            "rebuilt         7219\n",
            "salvage         3868\n",
            "lien            1422\n",
            "missing          814\n",
            "parts only       198\n",
            "Name: count, dtype: Int64\n"
          ]
        }
      ]
    },
    {
      "cell_type": "code",
      "source": [
        "vehicles.condition.unique()\n",
        "print(vehicles['condition'].value_counts())"
      ],
      "metadata": {
        "colab": {
          "base_uri": "https://localhost:8080/"
        },
        "id": "juE4EOueYjm0",
        "outputId": "db1e98ea-d640-499a-a095-123ad677fd54"
      },
      "execution_count": 76,
      "outputs": [
        {
          "output_type": "stream",
          "name": "stdout",
          "text": [
            "condition\n",
            "good         121456\n",
            "excellent    101467\n",
            "like new      21178\n",
            "fair           6769\n",
            "new            1305\n",
            "salvage         601\n",
            "Name: count, dtype: Int64\n"
          ]
        }
      ]
    },
    {
      "cell_type": "code",
      "source": [
        "vehicles.cylinders.unique()\n",
        "print(vehicles['cylinders'].value_counts())\n"
      ],
      "metadata": {
        "colab": {
          "base_uri": "https://localhost:8080/"
        },
        "id": "gbR0ld-RYjbA",
        "outputId": "60939220-936c-4eaf-b424-7a86dfee9953"
      },
      "execution_count": 77,
      "outputs": [
        {
          "output_type": "stream",
          "name": "stdout",
          "text": [
            "cylinders\n",
            "6 cylinders     94169\n",
            "4 cylinders     77642\n",
            "8 cylinders     72062\n",
            "5 cylinders      1712\n",
            "10 cylinders     1455\n",
            "other            1298\n",
            "3 cylinders       655\n",
            "12 cylinders      209\n",
            "Name: count, dtype: Int64\n"
          ]
        }
      ]
    },
    {
      "cell_type": "code",
      "source": [
        "print(vehicles['cylinders'].value_counts())"
      ],
      "metadata": {
        "colab": {
          "base_uri": "https://localhost:8080/"
        },
        "id": "Oje1dU6wmGmv",
        "outputId": "f0c77ada-7e7d-4a9d-d649-02ab83f7ed52"
      },
      "execution_count": 78,
      "outputs": [
        {
          "output_type": "stream",
          "name": "stdout",
          "text": [
            "cylinders\n",
            "6 cylinders     94169\n",
            "4 cylinders     77642\n",
            "8 cylinders     72062\n",
            "5 cylinders      1712\n",
            "10 cylinders     1455\n",
            "other            1298\n",
            "3 cylinders       655\n",
            "12 cylinders      209\n",
            "Name: count, dtype: Int64\n"
          ]
        }
      ]
    },
    {
      "cell_type": "code",
      "source": [
        "vehicles.fuel.unique()\n",
        "print(vehicles['fuel'].value_counts())"
      ],
      "metadata": {
        "colab": {
          "base_uri": "https://localhost:8080/"
        },
        "id": "Aq9mWxRUYjH7",
        "outputId": "bebb4002-3143-4ece-dc2a-7347d681b078"
      },
      "execution_count": 79,
      "outputs": [
        {
          "output_type": "stream",
          "name": "stdout",
          "text": [
            "fuel\n",
            "gas         356209\n",
            "other        30728\n",
            "diesel       30062\n",
            "hybrid        5170\n",
            "electric      1698\n",
            "Name: count, dtype: Int64\n"
          ]
        }
      ]
    },
    {
      "cell_type": "code",
      "source": [
        "vehicles.transmission.unique()\n",
        "print(vehicles['transmission'].value_counts())"
      ],
      "metadata": {
        "colab": {
          "base_uri": "https://localhost:8080/"
        },
        "id": "FQ3PEZe6Y3AR",
        "outputId": "83f0903c-6a30-4e56-c1ec-95f63618cfae"
      },
      "execution_count": 80,
      "outputs": [
        {
          "output_type": "stream",
          "name": "stdout",
          "text": [
            "transmission\n",
            "automatic    336524\n",
            "other         62682\n",
            "manual        25118\n",
            "Name: count, dtype: Int64\n"
          ]
        }
      ]
    },
    {
      "cell_type": "code",
      "source": [
        "vehicles.drive.unique()\n",
        "print(vehicles['drive'].value_counts())"
      ],
      "metadata": {
        "colab": {
          "base_uri": "https://localhost:8080/"
        },
        "id": "BXvWvR9iY21W",
        "outputId": "e922619b-3d03-4e32-93be-08e2000ad760"
      },
      "execution_count": 81,
      "outputs": [
        {
          "output_type": "stream",
          "name": "stdout",
          "text": [
            "drive\n",
            "4wd    131904\n",
            "fwd    105517\n",
            "rwd     58892\n",
            "Name: count, dtype: Int64\n"
          ]
        }
      ]
    },
    {
      "cell_type": "code",
      "source": [
        "vehicles.type.unique()\n",
        "print(vehicles['type'].value_counts())"
      ],
      "metadata": {
        "colab": {
          "base_uri": "https://localhost:8080/"
        },
        "id": "1eowHTJ6Y2oc",
        "outputId": "74a9515a-c085-475b-dce7-0194228c6675"
      },
      "execution_count": 82,
      "outputs": [
        {
          "output_type": "stream",
          "name": "stdout",
          "text": [
            "type\n",
            "sedan          87056\n",
            "SUV            77284\n",
            "pickup         43510\n",
            "truck          35279\n",
            "other          22110\n",
            "coupe          19204\n",
            "hatchback      16598\n",
            "wagon          10751\n",
            "van             8548\n",
            "convertible     7731\n",
            "mini-van        4825\n",
            "offroad          609\n",
            "bus              517\n",
            "Name: count, dtype: Int64\n"
          ]
        }
      ]
    },
    {
      "cell_type": "code",
      "source": [
        "vehicles.paint_color.unique()\n",
        "print(vehicles['paint_color'].value_counts())"
      ],
      "metadata": {
        "colab": {
          "base_uri": "https://localhost:8080/"
        },
        "id": "SQrl3LLuY0ww",
        "outputId": "d37c935b-eab6-455f-af03-0da8ea4238a2"
      },
      "execution_count": 83,
      "outputs": [
        {
          "output_type": "stream",
          "name": "stdout",
          "text": [
            "paint_color\n",
            "white     79285\n",
            "black     62861\n",
            "silver    42970\n",
            "blue      31223\n",
            "red       30473\n",
            "grey      24416\n",
            "green      7343\n",
            "custom     6700\n",
            "brown      6593\n",
            "yellow     2142\n",
            "orange     1984\n",
            "purple      687\n",
            "Name: count, dtype: Int64\n"
          ]
        }
      ]
    },
    {
      "cell_type": "code",
      "source": [
        "# Pick only the numerical features\n",
        "vehicles_numeric = vehicles.select_dtypes(include=['float64', 'int64'])\n",
        "\n",
        "# Create a correlation heatmap using just the numerical features\n",
        "plt.figure(figsize=(5, 4))\n",
        "sns.heatmap(vehicles_numeric.corr(), annot=True, cmap='coolwarm', vmin=-1, vmax=1)\n",
        "plt.title('Correlation')\n",
        "plt.show()"
      ],
      "metadata": {
        "colab": {
          "base_uri": "https://localhost:8080/",
          "height": 391
        },
        "id": "5EYf3k7ExohV",
        "outputId": "cc956688-79be-4170-ca95-546ea3083ec8"
      },
      "execution_count": 84,
      "outputs": [
        {
          "output_type": "display_data",
          "data": {
            "text/plain": [
              "<Figure size 500x400 with 2 Axes>"
            ],
            "image/png": "[encoded data removed]"
          },
          "metadata": {}
        }
      ]
    },
    {
      "cell_type": "markdown",
      "source": [
        "No significant correlation between numerical features"
      ],
      "metadata": {
        "id": "l4t7_phUoUjX"
      }
    },
    {
      "cell_type": "code",
      "source": [
        "# Histogram/Barplots for numerical variables\n",
        "vehicles_numeric.hist(bins=20, figsize=(10, 8))\n",
        "plt.show()"
      ],
      "metadata": {
        "colab": {
          "base_uri": "https://localhost:8080/",
          "height": 717
        },
        "id": "NJNfMUmtzvx_",
        "outputId": "0cd5d747-9c67-4181-8999-ca872c3952f3"
      },
      "execution_count": 85,
      "outputs": [
        {
          "output_type": "display_data",
          "data": {
            "text/plain": [
              "<Figure size 1000x800 with 4 Axes>"
            ],
            "image/png": "[encoded data removed]"
          },
          "metadata": {}
        }
      ]
    },
    {
      "cell_type": "code",
      "source": [
        "# Let's explore the price by categorical variable\n",
        "\n",
        "columns = ['title_status', 'transmission', 'type', 'condition', 'fuel', 'drive','paint_color', 'cylinders' ]\n",
        "\n",
        "for i, column in enumerate(columns):\n",
        "  plt.figure(figsize=(8,4))\n",
        "  mean_price = vehicles.groupby(column)['price'].mean()\n",
        "  bar_plot = sns.barplot(mean_price)\n",
        "  bar_plot.set(xlabel='Counts', ylabel='Categories', title='Average price by {0}'.format(column.capitalize()))\n",
        "  bar_plot.bar_label(bar_plot.containers[0])\n",
        "\n",
        "plt.tight_layout()\n",
        "plt.show()\n",
        "\n"
      ],
      "metadata": {
        "colab": {
          "base_uri": "https://localhost:8080/",
          "height": 1000
        },
        "id": "IdLPtDNm0q2j",
        "outputId": "bf7f8bb0-726f-4646-f5f2-e337732c099f"
      },
      "execution_count": 86,
      "outputs": [
        {
          "output_type": "display_data",
          "data": {
            "text/plain": [
              "<Figure size 800x400 with 1 Axes>"
            ],
            "image/png": "[encoded data removed]"
          },
          "metadata": {}
        },
        {
          "output_type": "display_data",
          "data": {
            "text/plain": [
              "<Figure size 800x400 with 1 Axes>"
            ],
            "image/png": "[encoded data removed]"
          },
          "metadata": {}
        },
        {
          "output_type": "display_data",
          "data": {
            "text/plain": [
              "<Figure size 800x400 with 1 Axes>"
            ],
            "image/png": "[encoded data removed]"
          },
          "metadata": {}
        },
        {
          "output_type": "display_data",
          "data": {
            "text/plain": [
              "<Figure size 800x400 with 1 Axes>"
            ],
            "image/png": "[encoded data removed]"
          },
          "metadata": {}
        },
        {
          "output_type": "display_data",
          "data": {
            "text/plain": [
              "<Figure size 800x400 with 1 Axes>"
            ],
            "image/png": "[encoded data removed]"
          },
          "metadata": {}
        },
        {
          "output_type": "display_data",
          "data": {
            "text/plain": [
              "<Figure size 800x400 with 1 Axes>"
            ],
            "image/png": "[encoded data removed]"
          },
          "metadata": {}
        },
        {
          "output_type": "display_data",
          "data": {
            "text/plain": [
              "<Figure size 800x400 with 1 Axes>"
            ],
            "image/png": "[encoded data removed]"
          },
          "metadata": {}
        },
        {
          "output_type": "display_data",
          "data": {
            "text/plain": [
              "<Figure size 800x400 with 1 Axes>"
            ],
            "image/png": "[encoded data removed]"
          },
          "metadata": {}
        }
      ]
    },
    {
      "cell_type": "markdown",
      "source": [
        "The behavior of each categorical feauture can be observed in relation to the average price. Later when making the evaluation we will determine if any of these behaviors by category can provide us with more information"
      ],
      "metadata": {
        "id": "87Hfa2uRbYhl"
      }
    },
    {
      "cell_type": "code",
      "source": [
        "# Numerical variables\n",
        "numerical_columns = ['year', 'odometer']\n",
        "\n",
        "fig, axes = plt.subplots(1, 2, figsize=(12, 4))\n",
        "\n",
        "for i, column in enumerate(numerical_columns):\n",
        "    sns.scatterplot(x=vehicles[column], y=vehicles['price'], ax=axes[i])\n",
        "    axes[i].set_title(f'Relationship between {column} and price')\n",
        "    axes[i].set_xlabel(column)\n",
        "    axes[i].set_ylabel('Dollars')\n",
        "\n",
        "plt.tight_layout()\n",
        "plt.show()"
      ],
      "metadata": {
        "colab": {
          "base_uri": "https://localhost:8080/",
          "height": 407
        },
        "id": "Mn-QBD09LLhA",
        "outputId": "481ae4f0-8f6c-4dd0-c555-fb334d67133d"
      },
      "execution_count": 87,
      "outputs": [
        {
          "output_type": "display_data",
          "data": {
            "text/plain": [
              "<Figure size 1200x400 with 2 Axes>"
            ],
            "image/png": "[encoded data removed]"
          },
          "metadata": {}
        }
      ]
    },
    {
      "cell_type": "markdown",
      "source": [
        "The behavior of each numerical feautures can be observed in relation to the average price. Later when making the evaluation we will determine if any of these behaviors by category can provide us with more information.\n",
        "\n",
        "In the graph for both year and odometer, outliers can be seen that can be modified in the Data Preparation"
      ],
      "metadata": {
        "id": "Ng3oeHARbg6c"
      }
    },
    {
      "cell_type": "markdown",
      "metadata": {
        "id": "YaHOyGVW8mpo"
      },
      "source": [
        "### Data Preparation\n",
        "\n",
        "After our initial exploration and fine-tuning of the business understanding, it is time to construct our final dataset prior to modeling.  Here, we want to make sure to handle any integrity issues and cleaning, the engineering of new features, any transformations that we believe should happen (scaling, logarithms, normalization, etc.), and general preparation for modeling with `sklearn`."
      ]
    },
    {
      "cell_type": "markdown",
      "source": [
        "We eliminated the id and VIN columns because they do not have information potentially predictive of the price.\n"
      ],
      "metadata": {
        "id": "9D4yRb-K_gWL"
      }
    },
    {
      "cell_type": "code",
      "execution_count": 88,
      "metadata": {
        "id": "dLZxMb9s8mpo"
      },
      "outputs": [],
      "source": [
        "vehicles1 = vehicles.drop(columns=[\"id\", \"VIN\"])"
      ]
    },
    {
      "cell_type": "markdown",
      "source": [
        "There are more than half of the null records in the size column, for this reason we'll eliminate the entire column"
      ],
      "metadata": {
        "id": "2GB8bB78TxOp"
      }
    },
    {
      "cell_type": "code",
      "source": [
        "vehicles1 = vehicles1.drop(columns=[\"size\"])"
      ],
      "metadata": {
        "id": "a1H96lC3RqPe"
      },
      "execution_count": 89,
      "outputs": []
    },
    {
      "cell_type": "markdown",
      "source": [
        "Imputations for missing values using the mod for every feature.\n",
        "\n",
        "Note that the imputation of the odometers variable will be done later, after the elimination of records with zeros"
      ],
      "metadata": {
        "id": "jAJNlYCGmNXm"
      }
    },
    {
      "cell_type": "code",
      "source": [],
      "metadata": {
        "id": "VD5TuIlSmMyS"
      },
      "execution_count": 89,
      "outputs": []
    },
    {
      "cell_type": "code",
      "source": [
        "#Imputation for missing values\n",
        "vehicles1['year'].fillna(vehicles1['year'].mode()[0], inplace=True)\n",
        "vehicles1['manufacturer'].fillna(vehicles1['manufacturer'].mode()[0], inplace=True)\n",
        "vehicles1['condition'].fillna(vehicles1['condition'].mode()[0], inplace=True)\n",
        "vehicles1['cylinders'].fillna(vehicles1['cylinders'].mode()[0], inplace=True)\n",
        "vehicles1['fuel'].fillna(vehicles1['fuel'].mode()[0], inplace=True)\n",
        "vehicles1['title_status'].fillna(vehicles1['title_status'].mode()[0], inplace=True)\n",
        "vehicles1['transmission'].fillna(vehicles1['transmission'].mode()[0], inplace=True)\n",
        "vehicles1['drive'].fillna(vehicles1['drive'].mode()[0], inplace=True)\n",
        "vehicles1['type'].fillna(vehicles1['type'].mode()[0], inplace=True)\n",
        "vehicles1['paint_color'].fillna(vehicles1['paint_color'].mode()[0], inplace=True)\n"
      ],
      "metadata": {
        "colab": {
          "base_uri": "https://localhost:8080/"
        },
        "id": "VhYoJZ-k539C",
        "outputId": "1ee14265-e0a9-4ac3-c36d-84521446a252"
      },
      "execution_count": 90,
      "outputs": [
        {
          "output_type": "stream",
          "name": "stderr",
          "text": [
            "<ipython-input-90-1628fc1facb0>:2: FutureWarning: A value is trying to be set on a copy of a DataFrame or Series through chained assignment using an inplace method.\n",
            "The behavior will change in pandas 3.0. This inplace method will never work because the intermediate object on which we are setting values always behaves as a copy.\n",
            "\n",
            "For example, when doing 'df[col].method(value, inplace=True)', try using 'df.method({col: value}, inplace=True)' or df[col] = df[col].method(value) instead, to perform the operation inplace on the original object.\n",
            "\n",
            "\n",
            "  vehicles1['year'].fillna(vehicles1['year'].mode()[0], inplace=True)\n",
            "<ipython-input-90-1628fc1facb0>:3: FutureWarning: A value is trying to be set on a copy of a DataFrame or Series through chained assignment using an inplace method.\n",
            "The behavior will change in pandas 3.0. This inplace method will never work because the intermediate object on which we are setting values always behaves as a copy.\n",
            "\n",
            "For example, when doing 'df[col].method(value, inplace=True)', try using 'df.method({col: value}, inplace=True)' or df[col] = df[col].method(value) instead, to perform the operation inplace on the original object.\n",
            "\n",
            "\n",
            "  vehicles1['manufacturer'].fillna(vehicles1['manufacturer'].mode()[0], inplace=True)\n",
            "<ipython-input-90-1628fc1facb0>:4: FutureWarning: A value is trying to be set on a copy of a DataFrame or Series through chained assignment using an inplace method.\n",
            "The behavior will change in pandas 3.0. This inplace method will never work because the intermediate object on which we are setting values always behaves as a copy.\n",
            "\n",
            "For example, when doing 'df[col].method(value, inplace=True)', try using 'df.method({col: value}, inplace=True)' or df[col] = df[col].method(value) instead, to perform the operation inplace on the original object.\n",
            "\n",
            "\n",
            "  vehicles1['condition'].fillna(vehicles1['condition'].mode()[0], inplace=True)\n",
            "<ipython-input-90-1628fc1facb0>:5: FutureWarning: A value is trying to be set on a copy of a DataFrame or Series through chained assignment using an inplace method.\n",
            "The behavior will change in pandas 3.0. This inplace method will never work because the intermediate object on which we are setting values always behaves as a copy.\n",
            "\n",
            "For example, when doing 'df[col].method(value, inplace=True)', try using 'df.method({col: value}, inplace=True)' or df[col] = df[col].method(value) instead, to perform the operation inplace on the original object.\n",
            "\n",
            "\n",
            "  vehicles1['cylinders'].fillna(vehicles1['cylinders'].mode()[0], inplace=True)\n",
            "<ipython-input-90-1628fc1facb0>:6: FutureWarning: A value is trying to be set on a copy of a DataFrame or Series through chained assignment using an inplace method.\n",
            "The behavior will change in pandas 3.0. This inplace method will never work because the intermediate object on which we are setting values always behaves as a copy.\n",
            "\n",
            "For example, when doing 'df[col].method(value, inplace=True)', try using 'df.method({col: value}, inplace=True)' or df[col] = df[col].method(value) instead, to perform the operation inplace on the original object.\n",
            "\n",
            "\n",
            "  vehicles1['fuel'].fillna(vehicles1['fuel'].mode()[0], inplace=True)\n",
            "<ipython-input-90-1628fc1facb0>:7: FutureWarning: A value is trying to be set on a copy of a DataFrame or Series through chained assignment using an inplace method.\n",
            "The behavior will change in pandas 3.0. This inplace method will never work because the intermediate object on which we are setting values always behaves as a copy.\n",
            "\n",
            "For example, when doing 'df[col].method(value, inplace=True)', try using 'df.method({col: value}, inplace=True)' or df[col] = df[col].method(value) instead, to perform the operation inplace on the original object.\n",
            "\n",
            "\n",
            "  vehicles1['title_status'].fillna(vehicles1['title_status'].mode()[0], inplace=True)\n",
            "<ipython-input-90-1628fc1facb0>:8: FutureWarning: A value is trying to be set on a copy of a DataFrame or Series through chained assignment using an inplace method.\n",
            "The behavior will change in pandas 3.0. This inplace method will never work because the intermediate object on which we are setting values always behaves as a copy.\n",
            "\n",
            "For example, when doing 'df[col].method(value, inplace=True)', try using 'df.method({col: value}, inplace=True)' or df[col] = df[col].method(value) instead, to perform the operation inplace on the original object.\n",
            "\n",
            "\n",
            "  vehicles1['transmission'].fillna(vehicles1['transmission'].mode()[0], inplace=True)\n",
            "<ipython-input-90-1628fc1facb0>:9: FutureWarning: A value is trying to be set on a copy of a DataFrame or Series through chained assignment using an inplace method.\n",
            "The behavior will change in pandas 3.0. This inplace method will never work because the intermediate object on which we are setting values always behaves as a copy.\n",
            "\n",
            "For example, when doing 'df[col].method(value, inplace=True)', try using 'df.method({col: value}, inplace=True)' or df[col] = df[col].method(value) instead, to perform the operation inplace on the original object.\n",
            "\n",
            "\n",
            "  vehicles1['drive'].fillna(vehicles1['drive'].mode()[0], inplace=True)\n",
            "<ipython-input-90-1628fc1facb0>:10: FutureWarning: A value is trying to be set on a copy of a DataFrame or Series through chained assignment using an inplace method.\n",
            "The behavior will change in pandas 3.0. This inplace method will never work because the intermediate object on which we are setting values always behaves as a copy.\n",
            "\n",
            "For example, when doing 'df[col].method(value, inplace=True)', try using 'df.method({col: value}, inplace=True)' or df[col] = df[col].method(value) instead, to perform the operation inplace on the original object.\n",
            "\n",
            "\n",
            "  vehicles1['type'].fillna(vehicles1['type'].mode()[0], inplace=True)\n",
            "<ipython-input-90-1628fc1facb0>:11: FutureWarning: A value is trying to be set on a copy of a DataFrame or Series through chained assignment using an inplace method.\n",
            "The behavior will change in pandas 3.0. This inplace method will never work because the intermediate object on which we are setting values always behaves as a copy.\n",
            "\n",
            "For example, when doing 'df[col].method(value, inplace=True)', try using 'df.method({col: value}, inplace=True)' or df[col] = df[col].method(value) instead, to perform the operation inplace on the original object.\n",
            "\n",
            "\n",
            "  vehicles1['paint_color'].fillna(vehicles1['paint_color'].mode()[0], inplace=True)\n"
          ]
        }
      ]
    },
    {
      "cell_type": "markdown",
      "source": [
        "Let's check null records"
      ],
      "metadata": {
        "id": "WShc47kcUO9V"
      }
    },
    {
      "cell_type": "code",
      "source": [
        "vehicles1.dropna()"
      ],
      "metadata": {
        "colab": {
          "base_uri": "https://localhost:8080/",
          "height": 424
        },
        "id": "yMhBRm79TECd",
        "outputId": "1ce98e83-b4d4-4c99-f9d8-676505cb14b8"
      },
      "execution_count": 91,
      "outputs": [
        {
          "output_type": "execute_result",
          "data": {
            "text/plain": [
              "         region  price  year manufacturer                     model  \\\n",
              "27       auburn  33590  2014          gmc  sierra 1500 crew cab slt   \n",
              "28       auburn  22590  2010    chevrolet            silverado 1500   \n",
              "29       auburn  39590  2020    chevrolet       silverado 1500 crew   \n",
              "30       auburn  30990  2017       toyota      tundra double cab sr   \n",
              "31       auburn  15000  2013         ford                 f-150 xlt   \n",
              "...         ...    ...   ...          ...                       ...   \n",
              "426875  wyoming  23590  2019       nissan         maxima s sedan 4d   \n",
              "426876  wyoming  30590  2020        volvo  s60 t5 momentum sedan 4d   \n",
              "426877  wyoming  34990  2020     cadillac          xt4 sport suv 4d   \n",
              "426878  wyoming  28990  2018        lexus           es 350 sedan 4d   \n",
              "426879  wyoming  30590  2019          bmw  4 series 430i gran coupe   \n",
              "\n",
              "        condition    cylinders    fuel  odometer title_status transmission  \\\n",
              "27           good  8 cylinders     gas     57923        clean        other   \n",
              "28           good  8 cylinders     gas     71229        clean        other   \n",
              "29           good  8 cylinders     gas     19160        clean        other   \n",
              "30           good  8 cylinders     gas     41124        clean        other   \n",
              "31      excellent  6 cylinders     gas    128000        clean    automatic   \n",
              "...           ...          ...     ...       ...          ...          ...   \n",
              "426875       good  6 cylinders     gas     32226        clean        other   \n",
              "426876       good  6 cylinders     gas     12029        clean        other   \n",
              "426877       good  6 cylinders  diesel      4174        clean        other   \n",
              "426878       good  6 cylinders     gas     30112        clean        other   \n",
              "426879       good  6 cylinders     gas     22716        clean        other   \n",
              "\n",
              "       drive       type paint_color state  \n",
              "27       4wd     pickup       white    al  \n",
              "28       4wd     pickup        blue    al  \n",
              "29       4wd     pickup         red    al  \n",
              "30       4wd     pickup         red    al  \n",
              "31       rwd      truck       black    al  \n",
              "...      ...        ...         ...   ...  \n",
              "426875   fwd      sedan       white    wy  \n",
              "426876   fwd      sedan         red    wy  \n",
              "426877   4wd  hatchback       white    wy  \n",
              "426878   fwd      sedan      silver    wy  \n",
              "426879   rwd      coupe       white    wy  \n",
              "\n",
              "[417285 rows x 15 columns]"
            ],
            "text/html": [
              "\n",
              "  <div id=\"df-80456b3c-d12a-417e-bdf8-65a7187eb231\" class=\"colab-df-container\">\n",
              "    <div>\n",
              "<style scoped>\n",
              "    .dataframe tbody tr th:only-of-type {\n",
              "        vertical-align: middle;\n",
              "    }\n",
              "\n",
              "    .dataframe tbody tr th {\n",
              "        vertical-align: top;\n",
              "    }\n",
              "\n",
              "    .dataframe thead th {\n",
              "        text-align: right;\n",
              "    }\n",
              "</style>\n",
              "<table border=\"1\" class=\"dataframe\">\n",
              "  <thead>\n",
              "    <tr style=\"text-align: right;\">\n",
              "      <th></th>\n",
              "      <th>region</th>\n",
              "      <th>price</th>\n",
              "      <th>year</th>\n",
              "      <th>manufacturer</th>\n",
              "      <th>model</th>\n",
              "      <th>condition</th>\n",
              "      <th>cylinders</th>\n",
              "      <th>fuel</th>\n",
              "      <th>odometer</th>\n",
              "      <th>title_status</th>\n",
              "      <th>transmission</th>\n",
              "      <th>drive</th>\n",
              "      <th>type</th>\n",
              "      <th>paint_color</th>\n",
              "      <th>state</th>\n",
              "    </tr>\n",
              "  </thead>\n",
              "  <tbody>\n",
              "    <tr>\n",
              "      <th>27</th>\n",
              "      <td>auburn</td>\n",
              "      <td>33590</td>\n",
              "      <td>2014</td>\n",
              "      <td>gmc</td>\n",
              "      <td>sierra 1500 crew cab slt</td>\n",
              "      <td>good</td>\n",
              "      <td>8 cylinders</td>\n",
              "      <td>gas</td>\n",
              "      <td>57923</td>\n",
              "      <td>clean</td>\n",
              "      <td>other</td>\n",
              "      <td>4wd</td>\n",
              "      <td>pickup</td>\n",
              "      <td>white</td>\n",
              "      <td>al</td>\n",
              "    </tr>\n",
              "    <tr>\n",
              "      <th>28</th>\n",
              "      <td>auburn</td>\n",
              "      <td>22590</td>\n",
              "      <td>2010</td>\n",
              "      <td>chevrolet</td>\n",
              "      <td>silverado 1500</td>\n",
              "      <td>good</td>\n",
              "      <td>8 cylinders</td>\n",
              "      <td>gas</td>\n",
              "      <td>71229</td>\n",
              "      <td>clean</td>\n",
              "      <td>other</td>\n",
              "      <td>4wd</td>\n",
              "      <td>pickup</td>\n",
              "      <td>blue</td>\n",
              "      <td>al</td>\n",
              "    </tr>\n",
              "    <tr>\n",
              "      <th>29</th>\n",
              "      <td>auburn</td>\n",
              "      <td>39590</td>\n",
              "      <td>2020</td>\n",
              "      <td>chevrolet</td>\n",
              "      <td>silverado 1500 crew</td>\n",
              "      <td>good</td>\n",
              "      <td>8 cylinders</td>\n",
              "      <td>gas</td>\n",
              "      <td>19160</td>\n",
              "      <td>clean</td>\n",
              "      <td>other</td>\n",
              "      <td>4wd</td>\n",
              "      <td>pickup</td>\n",
              "      <td>red</td>\n",
              "      <td>al</td>\n",
              "    </tr>\n",
              "    <tr>\n",
              "      <th>30</th>\n",
              "      <td>auburn</td>\n",
              "      <td>30990</td>\n",
              "      <td>2017</td>\n",
              "      <td>toyota</td>\n",
              "      <td>tundra double cab sr</td>\n",
              "      <td>good</td>\n",
              "      <td>8 cylinders</td>\n",
              "      <td>gas</td>\n",
              "      <td>41124</td>\n",
              "      <td>clean</td>\n",
              "      <td>other</td>\n",
              "      <td>4wd</td>\n",
              "      <td>pickup</td>\n",
              "      <td>red</td>\n",
              "      <td>al</td>\n",
              "    </tr>\n",
              "    <tr>\n",
              "      <th>31</th>\n",
              "      <td>auburn</td>\n",
              "      <td>15000</td>\n",
              "      <td>2013</td>\n",
              "      <td>ford</td>\n",
              "      <td>f-150 xlt</td>\n",
              "      <td>excellent</td>\n",
              "      <td>6 cylinders</td>\n",
              "      <td>gas</td>\n",
              "      <td>128000</td>\n",
              "      <td>clean</td>\n",
              "      <td>automatic</td>\n",
              "      <td>rwd</td>\n",
              "      <td>truck</td>\n",
              "      <td>black</td>\n",
              "      <td>al</td>\n",
              "    </tr>\n",
              "    <tr>\n",
              "      <th>...</th>\n",
              "      <td>...</td>\n",
              "      <td>...</td>\n",
              "      <td>...</td>\n",
              "      <td>...</td>\n",
              "      <td>...</td>\n",
              "      <td>...</td>\n",
              "      <td>...</td>\n",
              "      <td>...</td>\n",
              "      <td>...</td>\n",
              "      <td>...</td>\n",
              "      <td>...</td>\n",
              "      <td>...</td>\n",
              "      <td>...</td>\n",
              "      <td>...</td>\n",
              "      <td>...</td>\n",
              "    </tr>\n",
              "    <tr>\n",
              "      <th>426875</th>\n",
              "      <td>wyoming</td>\n",
              "      <td>23590</td>\n",
              "      <td>2019</td>\n",
              "      <td>nissan</td>\n",
              "      <td>maxima s sedan 4d</td>\n",
              "      <td>good</td>\n",
              "      <td>6 cylinders</td>\n",
              "      <td>gas</td>\n",
              "      <td>32226</td>\n",
              "      <td>clean</td>\n",
              "      <td>other</td>\n",
              "      <td>fwd</td>\n",
              "      <td>sedan</td>\n",
              "      <td>white</td>\n",
              "      <td>wy</td>\n",
              "    </tr>\n",
              "    <tr>\n",
              "      <th>426876</th>\n",
              "      <td>wyoming</td>\n",
              "      <td>30590</td>\n",
              "      <td>2020</td>\n",
              "      <td>volvo</td>\n",
              "      <td>s60 t5 momentum sedan 4d</td>\n",
              "      <td>good</td>\n",
              "      <td>6 cylinders</td>\n",
              "      <td>gas</td>\n",
              "      <td>12029</td>\n",
              "      <td>clean</td>\n",
              "      <td>other</td>\n",
              "      <td>fwd</td>\n",
              "      <td>sedan</td>\n",
              "      <td>red</td>\n",
              "      <td>wy</td>\n",
              "    </tr>\n",
              "    <tr>\n",
              "      <th>426877</th>\n",
              "      <td>wyoming</td>\n",
              "      <td>34990</td>\n",
              "      <td>2020</td>\n",
              "      <td>cadillac</td>\n",
              "      <td>xt4 sport suv 4d</td>\n",
              "      <td>good</td>\n",
              "      <td>6 cylinders</td>\n",
              "      <td>diesel</td>\n",
              "      <td>4174</td>\n",
              "      <td>clean</td>\n",
              "      <td>other</td>\n",
              "      <td>4wd</td>\n",
              "      <td>hatchback</td>\n",
              "      <td>white</td>\n",
              "      <td>wy</td>\n",
              "    </tr>\n",
              "    <tr>\n",
              "      <th>426878</th>\n",
              "      <td>wyoming</td>\n",
              "      <td>28990</td>\n",
              "      <td>2018</td>\n",
              "      <td>lexus</td>\n",
              "      <td>es 350 sedan 4d</td>\n",
              "      <td>good</td>\n",
              "      <td>6 cylinders</td>\n",
              "      <td>gas</td>\n",
              "      <td>30112</td>\n",
              "      <td>clean</td>\n",
              "      <td>other</td>\n",
              "      <td>fwd</td>\n",
              "      <td>sedan</td>\n",
              "      <td>silver</td>\n",
              "      <td>wy</td>\n",
              "    </tr>\n",
              "    <tr>\n",
              "      <th>426879</th>\n",
              "      <td>wyoming</td>\n",
              "      <td>30590</td>\n",
              "      <td>2019</td>\n",
              "      <td>bmw</td>\n",
              "      <td>4 series 430i gran coupe</td>\n",
              "      <td>good</td>\n",
              "      <td>6 cylinders</td>\n",
              "      <td>gas</td>\n",
              "      <td>22716</td>\n",
              "      <td>clean</td>\n",
              "      <td>other</td>\n",
              "      <td>rwd</td>\n",
              "      <td>coupe</td>\n",
              "      <td>white</td>\n",
              "      <td>wy</td>\n",
              "    </tr>\n",
              "  </tbody>\n",
              "</table>\n",
              "<p>417285 rows × 15 columns</p>\n",
              "</div>\n",
              "    <div class=\"colab-df-buttons\">\n",
              "\n",
              "  <div class=\"colab-df-container\">\n",
              "    <button class=\"colab-df-convert\" onclick=\"convertToInteractive('df-80456b3c-d12a-417e-bdf8-65a7187eb231')\"\n",
              "            title=\"Convert this dataframe to an interactive table.\"\n",
              "            style=\"display:none;\">\n",
              "\n",
              "  <svg xmlns=\"http://www.w3.org/2000/svg\" height=\"24px\" viewBox=\"0 -960 960 960\">\n",
              "    <path d=\"M120-120v-720h720v720H120Zm60-500h600v-160H180v160Zm220 220h160v-160H400v160Zm0 220h160v-160H400v160ZM180-400h160v-160H180v160Zm440 0h160v-160H620v160ZM180-180h160v-160H180v160Zm440 0h160v-160H620v160Z\"/>\n",
              "  </svg>\n",
              "    </button>\n",
              "\n",
              "  <style>\n",
              "    .colab-df-container {\n",
              "      display:flex;\n",
              "      gap: 12px;\n",
              "    }\n",
              "\n",
              "    .colab-df-convert {\n",
              "      background-color: #E8F0FE;\n",
              "      border: none;\n",
              "      border-radius: 50%;\n",
              "      cursor: pointer;\n",
              "      display: none;\n",
              "      fill: #1967D2;\n",
              "      height: 32px;\n",
              "      padding: 0 0 0 0;\n",
              "      width: 32px;\n",
              "    }\n",
              "\n",
              "    .colab-df-convert:hover {\n",
              "      background-color: #E2EBFA;\n",
              "      box-shadow: 0px 1px 2px rgba(60, 64, 67, 0.3), 0px 1px 3px 1px rgba(60, 64, 67, 0.15);\n",
              "      fill: #174EA6;\n",
              "    }\n",
              "\n",
              "    .colab-df-buttons div {\n",
              "      margin-bottom: 4px;\n",
              "    }\n",
              "\n",
              "    [theme=dark] .colab-df-convert {\n",
              "      background-color: #3B4455;\n",
              "      fill: #D2E3FC;\n",
              "    }\n",
              "\n",
              "    [theme=dark] .colab-df-convert:hover {\n",
              "      background-color: #434B5C;\n",
              "      box-shadow: 0px 1px 3px 1px rgba(0, 0, 0, 0.15);\n",
              "      filter: drop-shadow(0px 1px 2px rgba(0, 0, 0, 0.3));\n",
              "      fill: #FFFFFF;\n",
              "    }\n",
              "  </style>\n",
              "\n",
              "    <script>\n",
              "      const buttonEl =\n",
              "        document.querySelector('#df-80456b3c-d12a-417e-bdf8-65a7187eb231 button.colab-df-convert');\n",
              "      buttonEl.style.display =\n",
              "        google.colab.kernel.accessAllowed ? 'block' : 'none';\n",
              "\n",
              "      async function convertToInteractive(key) {\n",
              "        const element = document.querySelector('#df-80456b3c-d12a-417e-bdf8-65a7187eb231');\n",
              "        const dataTable =\n",
              "          await google.colab.kernel.invokeFunction('convertToInteractive',\n",
              "                                                    [key], {});\n",
              "        if (!dataTable) return;\n",
              "\n",
              "        const docLinkHtml = 'Like what you see? Visit the ' +\n",
              "          '<a target=\"_blank\" href=https://colab.research.google.com/notebooks/data_table.ipynb>data table notebook</a>'\n",
              "          + ' to learn more about interactive tables.';\n",
              "        element.innerHTML = '';\n",
              "        dataTable['output_type'] = 'display_data';\n",
              "        await google.colab.output.renderOutput(dataTable, element);\n",
              "        const docLink = document.createElement('div');\n",
              "        docLink.innerHTML = docLinkHtml;\n",
              "        element.appendChild(docLink);\n",
              "      }\n",
              "    </script>\n",
              "  </div>\n",
              "\n",
              "\n",
              "<div id=\"df-a5ee601a-1eac-45ed-9e93-78932956da7f\">\n",
              "  <button class=\"colab-df-quickchart\" onclick=\"quickchart('df-a5ee601a-1eac-45ed-9e93-78932956da7f')\"\n",
              "            title=\"Suggest charts\"\n",
              "            style=\"display:none;\">\n",
              "\n",
              "<svg xmlns=\"http://www.w3.org/2000/svg\" height=\"24px\"viewBox=\"0 0 24 24\"\n",
              "     width=\"24px\">\n",
              "    <g>\n",
              "        <path d=\"M19 3H5c-1.1 0-2 .9-2 2v14c0 1.1.9 2 2 2h14c1.1 0 2-.9 2-2V5c0-1.1-.9-2-2-2zM9 17H7v-7h2v7zm4 0h-2V7h2v10zm4 0h-2v-4h2v4z\"/>\n",
              "    </g>\n",
              "</svg>\n",
              "  </button>\n",
              "\n",
              "<style>\n",
              "  .colab-df-quickchart {\n",
              "      --bg-color: #E8F0FE;\n",
              "      --fill-color: #1967D2;\n",
              "      --hover-bg-color: #E2EBFA;\n",
              "      --hover-fill-color: #174EA6;\n",
              "      --disabled-fill-color: #AAA;\n",
              "      --disabled-bg-color: #DDD;\n",
              "  }\n",
              "\n",
              "  [theme=dark] .colab-df-quickchart {\n",
              "      --bg-color: #3B4455;\n",
              "      --fill-color: #D2E3FC;\n",
              "      --hover-bg-color: #434B5C;\n",
              "      --hover-fill-color: #FFFFFF;\n",
              "      --disabled-bg-color: #3B4455;\n",
              "      --disabled-fill-color: #666;\n",
              "  }\n",
              "\n",
              "  .colab-df-quickchart {\n",
              "    background-color: var(--bg-color);\n",
              "    border: none;\n",
              "    border-radius: 50%;\n",
              "    cursor: pointer;\n",
              "    display: none;\n",
              "    fill: var(--fill-color);\n",
              "    height: 32px;\n",
              "    padding: 0;\n",
              "    width: 32px;\n",
              "  }\n",
              "\n",
              "  .colab-df-quickchart:hover {\n",
              "    background-color: var(--hover-bg-color);\n",
              "    box-shadow: 0 1px 2px rgba(60, 64, 67, 0.3), 0 1px 3px 1px rgba(60, 64, 67, 0.15);\n",
              "    fill: var(--button-hover-fill-color);\n",
              "  }\n",
              "\n",
              "  .colab-df-quickchart-complete:disabled,\n",
              "  .colab-df-quickchart-complete:disabled:hover {\n",
              "    background-color: var(--disabled-bg-color);\n",
              "    fill: var(--disabled-fill-color);\n",
              "    box-shadow: none;\n",
              "  }\n",
              "\n",
              "  .colab-df-spinner {\n",
              "    border: 2px solid var(--fill-color);\n",
              "    border-color: transparent;\n",
              "    border-bottom-color: var(--fill-color);\n",
              "    animation:\n",
              "      spin 1s steps(1) infinite;\n",
              "  }\n",
              "\n",
              "  @keyframes spin {\n",
              "    0% {\n",
              "      border-color: transparent;\n",
              "      border-bottom-color: var(--fill-color);\n",
              "      border-left-color: var(--fill-color);\n",
              "    }\n",
              "    20% {\n",
              "      border-color: transparent;\n",
              "      border-left-color: var(--fill-color);\n",
              "      border-top-color: var(--fill-color);\n",
              "    }\n",
              "    30% {\n",
              "      border-color: transparent;\n",
              "      border-left-color: var(--fill-color);\n",
              "      border-top-color: var(--fill-color);\n",
              "      border-right-color: var(--fill-color);\n",
              "    }\n",
              "    40% {\n",
              "      border-color: transparent;\n",
              "      border-right-color: var(--fill-color);\n",
              "      border-top-color: var(--fill-color);\n",
              "    }\n",
              "    60% {\n",
              "      border-color: transparent;\n",
              "      border-right-color: var(--fill-color);\n",
              "    }\n",
              "    80% {\n",
              "      border-color: transparent;\n",
              "      border-right-color: var(--fill-color);\n",
              "      border-bottom-color: var(--fill-color);\n",
              "    }\n",
              "    90% {\n",
              "      border-color: transparent;\n",
              "      border-bottom-color: var(--fill-color);\n",
              "    }\n",
              "  }\n",
              "</style>\n",
              "\n",
              "  <script>\n",
              "    async function quickchart(key) {\n",
              "      const quickchartButtonEl =\n",
              "        document.querySelector('#' + key + ' button');\n",
              "      quickchartButtonEl.disabled = true;  // To prevent multiple clicks.\n",
              "      quickchartButtonEl.classList.add('colab-df-spinner');\n",
              "      try {\n",
              "        const charts = await google.colab.kernel.invokeFunction(\n",
              "            'suggestCharts', [key], {});\n",
              "      } catch (error) {\n",
              "        console.error('Error during call to suggestCharts:', error);\n",
              "      }\n",
              "      quickchartButtonEl.classList.remove('colab-df-spinner');\n",
              "      quickchartButtonEl.classList.add('colab-df-quickchart-complete');\n",
              "    }\n",
              "    (() => {\n",
              "      let quickchartButtonEl =\n",
              "        document.querySelector('#df-a5ee601a-1eac-45ed-9e93-78932956da7f button');\n",
              "      quickchartButtonEl.style.display =\n",
              "        google.colab.kernel.accessAllowed ? 'block' : 'none';\n",
              "    })();\n",
              "  </script>\n",
              "</div>\n",
              "\n",
              "    </div>\n",
              "  </div>\n"
            ],
            "application/vnd.google.colaboratory.intrinsic+json": {
              "type": "dataframe"
            }
          },
          "metadata": {},
          "execution_count": 91
        }
      ]
    },
    {
      "cell_type": "code",
      "source": [
        "vehicles1.dropna().shape"
      ],
      "metadata": {
        "colab": {
          "base_uri": "https://localhost:8080/"
        },
        "id": "XiF7rzahJbr_",
        "outputId": "6ab5e21e-3361-426e-d14c-6917baea7b32"
      },
      "execution_count": 92,
      "outputs": [
        {
          "output_type": "execute_result",
          "data": {
            "text/plain": [
              "(417285, 15)"
            ]
          },
          "metadata": {},
          "execution_count": 92
        }
      ]
    },
    {
      "cell_type": "markdown",
      "source": [
        "Records with price = 0 are deleted\n",
        "Records with odometer = 0 are deleted"
      ],
      "metadata": {
        "id": "cQ-mPs63pr3w"
      }
    },
    {
      "cell_type": "code",
      "source": [
        "vehicles1.drop(vehicles1[(vehicles1['price'] == 0)].index, inplace=True)\n",
        "vehicles1.drop(vehicles1[(vehicles1['odometer'] == 0)].index, inplace=True)\n"
      ],
      "metadata": {
        "id": "1jvG1Uk3IMJf"
      },
      "execution_count": 93,
      "outputs": []
    },
    {
      "cell_type": "code",
      "source": [],
      "metadata": {
        "id": "3d0xF0uDEb5M"
      },
      "execution_count": 93,
      "outputs": []
    },
    {
      "cell_type": "markdown",
      "source": [
        "Outliers evaluation on price. Then after evaluate histogram Price > $100,000 it is droped from the data set. This change represent a huge impact in the model as you would see later in the Modeling part.\n"
      ],
      "metadata": {
        "id": "UZnuDYkwE_Vh"
      }
    },
    {
      "cell_type": "code",
      "source": [
        "#Outliers\n",
        "vehicles1.drop(vehicles1[(vehicles1['price'] > 100000)].index, inplace=True)"
      ],
      "metadata": {
        "id": "psWRNmIpEUFZ"
      },
      "execution_count": 94,
      "outputs": []
    },
    {
      "cell_type": "markdown",
      "source": [],
      "metadata": {
        "id": "V6LjST3WqItl"
      }
    },
    {
      "cell_type": "code",
      "source": [
        "vehicles1['odometer'].fillna(vehicles1['odometer'].mode()[0], inplace=True)"
      ],
      "metadata": {
        "colab": {
          "base_uri": "https://localhost:8080/"
        },
        "id": "QJAUakP6T-Fj",
        "outputId": "ff25d5f9-81f9-423c-c1ef-978cfcf524a3"
      },
      "execution_count": 95,
      "outputs": [
        {
          "output_type": "stream",
          "name": "stderr",
          "text": [
            "<ipython-input-95-137ec552a5a1>:1: FutureWarning: A value is trying to be set on a copy of a DataFrame or Series through chained assignment using an inplace method.\n",
            "The behavior will change in pandas 3.0. This inplace method will never work because the intermediate object on which we are setting values always behaves as a copy.\n",
            "\n",
            "For example, when doing 'df[col].method(value, inplace=True)', try using 'df.method({col: value}, inplace=True)' or df[col] = df[col].method(value) instead, to perform the operation inplace on the original object.\n",
            "\n",
            "\n",
            "  vehicles1['odometer'].fillna(vehicles1['odometer'].mode()[0], inplace=True)\n"
          ]
        }
      ]
    },
    {
      "cell_type": "markdown",
      "source": [
        "#The model column is eliminated because the data is unstructured and analysis is difficult"
      ],
      "metadata": {
        "id": "K8DUD_ozqnZu"
      }
    },
    {
      "cell_type": "code",
      "source": [
        "vehicles1 = vehicles1.drop(columns=[\"model\"])"
      ],
      "metadata": {
        "id": "E3SzoVjYp95F"
      },
      "execution_count": 96,
      "outputs": []
    },
    {
      "cell_type": "markdown",
      "metadata": {
        "id": "myJ0zxKq8mpp"
      },
      "source": [
        "### Modeling\n",
        "\n",
        "With your (almost?) final dataset in hand, it is now time to build some models.  Here, you should build a number of different regression models with the price as the target.  In building your models, you should explore different parameters and be sure to cross-validate your findings."
      ]
    },
    {
      "cell_type": "code",
      "source": [
        "!pip install category_encoders"
      ],
      "metadata": {
        "colab": {
          "base_uri": "https://localhost:8080/"
        },
        "id": "Fx4KqctcJdNN",
        "outputId": "f600b477-35c9-4b2e-dea5-f4c4da157584"
      },
      "execution_count": 97,
      "outputs": [
        {
          "output_type": "stream",
          "name": "stdout",
          "text": [
            "Requirement already satisfied: category_encoders in /usr/local/lib/python3.11/dist-packages (2.8.0)\n",
            "Requirement already satisfied: numpy>=1.14.0 in /usr/local/lib/python3.11/dist-packages (from category_encoders) (1.26.4)\n",
            "Requirement already satisfied: pandas>=1.0.5 in /usr/local/lib/python3.11/dist-packages (from category_encoders) (2.2.2)\n",
            "Requirement already satisfied: patsy>=0.5.1 in /usr/local/lib/python3.11/dist-packages (from category_encoders) (1.0.1)\n",
            "Requirement already satisfied: scikit-learn>=1.6.0 in /usr/local/lib/python3.11/dist-packages (from category_encoders) (1.6.1)\n",
            "Requirement already satisfied: scipy>=1.0.0 in /usr/local/lib/python3.11/dist-packages (from category_encoders) (1.13.1)\n",
            "Requirement already satisfied: statsmodels>=0.9.0 in /usr/local/lib/python3.11/dist-packages (from category_encoders) (0.14.4)\n",
            "Requirement already satisfied: python-dateutil>=2.8.2 in /usr/local/lib/python3.11/dist-packages (from pandas>=1.0.5->category_encoders) (2.8.2)\n",
            "Requirement already satisfied: pytz>=2020.1 in /usr/local/lib/python3.11/dist-packages (from pandas>=1.0.5->category_encoders) (2025.1)\n",
            "Requirement already satisfied: tzdata>=2022.7 in /usr/local/lib/python3.11/dist-packages (from pandas>=1.0.5->category_encoders) (2025.1)\n",
            "Requirement already satisfied: joblib>=1.2.0 in /usr/local/lib/python3.11/dist-packages (from scikit-learn>=1.6.0->category_encoders) (1.4.2)\n",
            "Requirement already satisfied: threadpoolctl>=3.1.0 in /usr/local/lib/python3.11/dist-packages (from scikit-learn>=1.6.0->category_encoders) (3.5.0)\n",
            "Requirement already satisfied: packaging>=21.3 in /usr/local/lib/python3.11/dist-packages (from statsmodels>=0.9.0->category_encoders) (24.2)\n",
            "Requirement already satisfied: six>=1.5 in /usr/local/lib/python3.11/dist-packages (from python-dateutil>=2.8.2->pandas>=1.0.5->category_encoders) (1.17.0)\n"
          ]
        }
      ]
    },
    {
      "cell_type": "markdown",
      "source": [
        "Import libraries for Modeling"
      ],
      "metadata": {
        "id": "5Pta1K2OcEIE"
      }
    },
    {
      "cell_type": "code",
      "execution_count": 98,
      "metadata": {
        "id": "IbqVYXXR8mpp"
      },
      "outputs": [],
      "source": [
        "import statsmodels.api as sm\n",
        "from sklearn.linear_model import LinearRegression\n",
        "from sklearn.metrics import mean_squared_error, mean_absolute_error, r2_score\n",
        "from category_encoders.james_stein import JamesSteinEncoder\n",
        "from sklearn.preprocessing import OneHotEncoder, StandardScaler, PolynomialFeatures\n",
        "from sklearn.compose import make_column_transformer, ColumnTransformer\n",
        "from sklearn.model_selection import train_test_split, GridSearchCV\n",
        "from sklearn.pipeline import Pipeline"
      ]
    },
    {
      "cell_type": "markdown",
      "source": [
        "# Define your features (X) and your target variable (y)"
      ],
      "metadata": {
        "id": "xzQoZYIWcQXM"
      }
    },
    {
      "cell_type": "code",
      "execution_count": 99,
      "metadata": {
        "id": "NQegGON48mpp"
      },
      "outputs": [],
      "source": [
        "X = vehicles1.drop(columns=['price'])  # Here we delete the price because it's the target variable\n",
        "y = vehicles1['price']  # This is our target variable"
      ]
    },
    {
      "cell_type": "markdown",
      "source": [
        "# Divide the dataset into train/test"
      ],
      "metadata": {
        "id": "3qutnE5scaQU"
      }
    },
    {
      "cell_type": "code",
      "execution_count": 100,
      "metadata": {
        "id": "eIDvQGEt8mpp"
      },
      "outputs": [],
      "source": [
        "X_train, X_test, y_train, y_test = train_test_split(X, y, test_size=0.2, random_state=42)"
      ]
    },
    {
      "cell_type": "code",
      "source": [
        "print(f\"Train set size: {X_train.shape}. Number of labels in the train set: {y_train.shape}\")\n",
        "print(f\"Test set size: {X_test.shape}. Number of labels in the test set: {y_test.shape}\")"
      ],
      "metadata": {
        "colab": {
          "base_uri": "https://localhost:8080/"
        },
        "id": "v_-EwTDAzxYv",
        "outputId": "ee58ca82-0500-477c-8021-11fd06081b93"
      },
      "execution_count": 101,
      "outputs": [
        {
          "output_type": "stream",
          "name": "stdout",
          "text": [
            "Train set size: (313778, 13). Number of labels in the train set: (313778,)\n",
            "Test set size: (78445, 13). Number of labels in the test set: (78445,)\n"
          ]
        }
      ]
    },
    {
      "cell_type": "markdown",
      "source": [
        "We defined a Categorical list of columns and a Numerical List of Columns for future use."
      ],
      "metadata": {
        "id": "zWHlW6WScdkD"
      }
    },
    {
      "cell_type": "code",
      "execution_count": 102,
      "metadata": {
        "id": "jFivVT868mpq"
      },
      "outputs": [],
      "source": [
        "categorical_columns = ['title_status', 'transmission', 'type', 'condition', 'fuel', 'drive','paint_color', 'cylinders', 'region', 'manufacturer', 'state' ]"
      ]
    },
    {
      "cell_type": "code",
      "execution_count": 103,
      "metadata": {
        "id": "YuXCeEBF8mpq"
      },
      "outputs": [],
      "source": [
        "numerical_columns = ['year', 'odometer']"
      ]
    },
    {
      "cell_type": "markdown",
      "source": [
        "We create the function Generate Model that receive de Model Transformer and X train, X test, y train and y test.\n",
        "The function run the fit for trian data and predict for train and test data. Calculated MSE (Mean Squared Error), RMSE (Root Mean Squared Error) and MAE (Mean Absolute Error) for train and test data and Determination coefficient for the Model Transformer.\n",
        "\n",
        "The function save that information on the DataSet \"metrics\" for future Evaluation"
      ],
      "metadata": {
        "id": "ZchxFXshcpj7"
      }
    },
    {
      "cell_type": "code",
      "execution_count": 104,
      "metadata": {
        "id": "-Udj7rUD8mpq"
      },
      "outputs": [],
      "source": [
        "metrics = []\n",
        "\n",
        "def generate_model(model_conf, model_transformer, X_train, X_test, y_train, y_test):\n",
        "  model_transformer.fit(X_train, y_train)\n",
        "  y_train_pred = model_transformer.predict(X_train)\n",
        "  y_test_pred = model_transformer.predict(X_test)\n",
        "  # Mean Absolute Error\n",
        "  mae_train = mean_absolute_error(y_train, y_train_pred)\n",
        "  mae_test  = mean_absolute_error(y_test, y_test_pred)\n",
        "  # Root Mean Squared Error\n",
        "  rmse_train = np.sqrt(mean_squared_error(y_train, y_train_pred))\n",
        "  rmse_test  = np.sqrt(mean_squared_error(y_test, y_test_pred))\n",
        "  # Mean Squared Error\n",
        "  mse_train = mean_squared_error(y_train, y_train_pred)\n",
        "  mse_test  = mean_squared_error(y_test, y_test_pred)\n",
        "  # R² (Determination coefficient)\n",
        "  r2 = r2_score(y_test, y_test_pred)\n",
        "\n",
        "  metrics.append({ 'Model': model_conf, 'MAE Train': mae_train,  'MAE Test': mae_test, 'MSE Train': mse_train,  'MSE Test': mse_test, 'RMSE Train': rmse_train, 'RMSE Test': rmse_test, 'Determination coefficient': r2 })\n",
        "  print(f'{model_conf} MAE Train: {mae_train: .2f}')\n",
        "  print(f'{model_conf} MAE Test: {mae_test: .2f}')\n",
        "  print(f'{model_conf} MSE Train: {mse_train: .2f}')\n",
        "  print(f'{model_conf} MSE Test: {mse_test: .2f}')\n",
        "  print(f'{model_conf} RMSE Train: {rmse_train: .2f}')\n",
        "  print(f'{model_conf} RMSE Test: {rmse_test: .2f}')\n",
        "  print(f'{model_conf} Determination coefficient: {r2: .2f}')"
      ]
    },
    {
      "cell_type": "markdown",
      "source": [
        "Here we stated to create each model and run Generate Model function to determined the efficient of the model"
      ],
      "metadata": {
        "id": "4x_riR1fd22R"
      }
    },
    {
      "cell_type": "code",
      "source": [
        "model_transformer = make_column_transformer((JamesSteinEncoder(), categorical_columns),\n",
        "                                            (StandardScaler(), numerical_columns),\n",
        "                                            remainder='passthrough')\n",
        "model_pipe = Pipeline([('transformer', model_transformer), ('linreg', LinearRegression())])\n",
        "generate_model('Model with James Stein Encoder and Standard Scaler', model_pipe, X_train, X_test, y_train, y_test)"
      ],
      "metadata": {
        "colab": {
          "base_uri": "https://localhost:8080/"
        },
        "id": "S6Sh18l0oMmJ",
        "outputId": "3fc9ff8a-bc03-46f8-bdc3-997afa69f7bf"
      },
      "execution_count": 105,
      "outputs": [
        {
          "output_type": "stream",
          "name": "stdout",
          "text": [
            "Model with James Stein Encoder and Standard Scaler MAE Train:  7901.78\n",
            "Model with James Stein Encoder and Standard Scaler MAE Test:  7961.04\n",
            "Model with James Stein Encoder and Standard Scaler MSE Train:  123791346.05\n",
            "Model with James Stein Encoder and Standard Scaler MSE Test:  125835416.14\n",
            "Model with James Stein Encoder and Standard Scaler RMSE Train:  11126.16\n",
            "Model with James Stein Encoder and Standard Scaler RMSE Test:  11217.64\n",
            "Model with James Stein Encoder and Standard Scaler Determination coefficient:  0.41\n"
          ]
        }
      ]
    },
    {
      "cell_type": "markdown",
      "source": [
        "Result:\n",
        "\n",
        "**(Root Mean Squared Error):** Improving the model significantly to 11,217 meaning that, on average, the model is off by $11,217 when predicting price.\n",
        "\n",
        "**R² (Coefficient of Determination):** 0.406 mean that, 41% of the variation in price can be explained by the variables in the model.\n"
      ],
      "metadata": {
        "id": "JX8v5eleiegl"
      }
    },
    {
      "cell_type": "code",
      "source": [
        "model_transformer = make_column_transformer((OneHotEncoder(), categorical_columns), remainder='passthrough')\n",
        "model_pipe = Pipeline([('transformer', model_transformer), ('linreg', LinearRegression())])\n",
        "generate_model('Model with One Hot Encoder', model_pipe, X_train, X_test, y_train, y_test)\n"
      ],
      "metadata": {
        "colab": {
          "base_uri": "https://localhost:8080/"
        },
        "id": "QZEZYA52RLUs",
        "outputId": "5ef3ccc8-1099-4376-e905-605d55f6f55a"
      },
      "execution_count": 106,
      "outputs": [
        {
          "output_type": "stream",
          "name": "stdout",
          "text": [
            "Model with One Hot Encoder MAE Train:  8361.86\n",
            "Model with One Hot Encoder MAE Test:  8406.77\n",
            "Model with One Hot Encoder MSE Train:  135717995.31\n",
            "Model with One Hot Encoder MSE Test:  137541563.03\n",
            "Model with One Hot Encoder RMSE Train:  11649.81\n",
            "Model with One Hot Encoder RMSE Test:  11727.81\n",
            "Model with One Hot Encoder Determination coefficient:  0.35\n"
          ]
        }
      ]
    },
    {
      "cell_type": "markdown",
      "source": [
        "Result:\n",
        "\n",
        "**(Root Mean Squared Error):**  11727.81 meaning that, on average, the model is off by $11,727.81 when predicting price.\n",
        "\n",
        "**R² (Coefficient of Determination):** 35% of the variation in price can be explained by the variables in the model.\n",
        "\n",
        "Let's keep trying another models configuration."
      ],
      "metadata": {
        "id": "P61_A6wglsPh"
      }
    },
    {
      "cell_type": "code",
      "source": [
        "model_transformer = make_column_transformer((JamesSteinEncoder(), categorical_columns), remainder='passthrough')\n",
        "model_pipe = Pipeline([('transformer', model_transformer), ('linreg', LinearRegression())])\n",
        "generate_model('Model with James Stein Encoder', model_pipe, X_train, X_test, y_train, y_test)"
      ],
      "metadata": {
        "colab": {
          "base_uri": "https://localhost:8080/"
        },
        "id": "ozVQmlDAoe4v",
        "outputId": "63822149-226b-4bbe-bdc5-f731f2196f5b"
      },
      "execution_count": 107,
      "outputs": [
        {
          "output_type": "stream",
          "name": "stdout",
          "text": [
            "Model with James Stein Encoder MAE Train:  7901.78\n",
            "Model with James Stein Encoder MAE Test:  7961.04\n",
            "Model with James Stein Encoder MSE Train:  123791346.05\n",
            "Model with James Stein Encoder MSE Test:  125835416.14\n",
            "Model with James Stein Encoder RMSE Train:  11126.16\n",
            "Model with James Stein Encoder RMSE Test:  11217.64\n",
            "Model with James Stein Encoder Determination coefficient:  0.41\n"
          ]
        }
      ]
    },
    {
      "cell_type": "markdown",
      "source": [
        "Result:\n",
        "\n",
        "**(Root Mean Squared Error):**  11217.64 meaning that, on average, the model is off by $11217.64 when predicting price.\n",
        "\n",
        "**R² (Coefficient of Determination):** 41% of the variation in price can be explained by the variables in the model.\n",
        "\n",
        "Let's keep trying another models configuration."
      ],
      "metadata": {
        "id": "UKMsR7sImQA-"
      }
    },
    {
      "cell_type": "code",
      "source": [
        "model_transformer = make_column_transformer((OneHotEncoder(), categorical_columns),\n",
        "                                            (PolynomialFeatures(degree = 3, include_bias = False),  numerical_columns),\n",
        "                                            remainder='passthrough')\n",
        "model_pipe = Pipeline([('transformer', model_transformer), ('linreg', LinearRegression())])\n",
        "grid = GridSearchCV(model_pipe, {'transformer__polynomialfeatures__degree': [ 2, 3, 4 ]})\n",
        "generate_model('Model with One Hot Encoder and Polynomial Features', grid, X_train, X_test, y_train, y_test)"
      ],
      "metadata": {
        "colab": {
          "base_uri": "https://localhost:8080/"
        },
        "id": "cKqjcvmkeawi",
        "outputId": "f0e94b58-d4b9-42d4-a0e5-b9e5abf272f2"
      },
      "execution_count": 108,
      "outputs": [
        {
          "output_type": "stream",
          "name": "stdout",
          "text": [
            "Model with One Hot Encoder and Polynomial Features MAE Train:  9961.39\n",
            "Model with One Hot Encoder and Polynomial Features MAE Test:  9977.48\n",
            "Model with One Hot Encoder and Polynomial Features MSE Train:  177650135.85\n",
            "Model with One Hot Encoder and Polynomial Features MSE Test:  179877386.24\n",
            "Model with One Hot Encoder and Polynomial Features RMSE Train:  13328.55\n",
            "Model with One Hot Encoder and Polynomial Features RMSE Test:  13411.84\n",
            "Model with One Hot Encoder and Polynomial Features Determination coefficient:  0.15\n"
          ]
        }
      ]
    },
    {
      "cell_type": "markdown",
      "source": [
        "Result:\n",
        "\n",
        "**(Root Mean Squared Error):**  13411.84 meaning that, on average, the model is off by $13411.84 when predicting price.\n",
        "\n",
        "**R² (Coefficient of Determination):** 15% of the variation in price can be explained by the variables in the model.\n",
        "\n",
        "The worst option so far"
      ],
      "metadata": {
        "id": "SjIUNxHimpoX"
      }
    },
    {
      "cell_type": "code",
      "source": [
        "model_transformer = make_column_transformer((OneHotEncoder(), categorical_columns),\n",
        "                                            (StandardScaler(), numerical_columns),\n",
        "                                            remainder='passthrough')\n",
        "model_pipe = Pipeline([('transformer', model_transformer), ('linreg', LinearRegression())])\n",
        "generate_model('Model with One Hot Encoder and Standard Scaler', model_pipe, X_train, X_test, y_train, y_test)\n"
      ],
      "metadata": {
        "colab": {
          "base_uri": "https://localhost:8080/"
        },
        "id": "atKb7su4nKIB",
        "outputId": "aba9dd64-5c54-4c1c-dd2d-cd5a9cd73780"
      },
      "execution_count": 109,
      "outputs": [
        {
          "output_type": "stream",
          "name": "stdout",
          "text": [
            "Model with One Hot Encoder and Standard Scaler MAE Train:  7577.42\n",
            "Model with One Hot Encoder and Standard Scaler MAE Test:  7643.42\n",
            "Model with One Hot Encoder and Standard Scaler MSE Train:  116622136.51\n",
            "Model with One Hot Encoder and Standard Scaler MSE Test:  118827754.00\n",
            "Model with One Hot Encoder and Standard Scaler RMSE Train:  10799.17\n",
            "Model with One Hot Encoder and Standard Scaler RMSE Test:  10900.81\n",
            "Model with One Hot Encoder and Standard Scaler Determination coefficient:  0.44\n"
          ]
        }
      ]
    },
    {
      "cell_type": "markdown",
      "source": [
        "Result:\n",
        "\n",
        "**(Root Mean Squared Error):**  10900.81 meaning that, on average, the model is off by $10900.81 when predicting price.\n",
        "\n",
        "**R² (Coefficient of Determination):** 44% of the variation in price can be explained by the variables in the model.\n",
        "\n",
        "So we are going to calculate the coefficients:"
      ],
      "metadata": {
        "id": "aYPuUoIbukMo"
      }
    },
    {
      "cell_type": "code",
      "source": [
        "coef = []\n",
        "feature_names = model_transformer.get_feature_names_out()\n",
        "for index in range(0, len(model_pipe['linreg'].coef_)):\n",
        "  if feature_names[index] == 'standardscaler__odometer':\n",
        "    c = model_pipe['linreg'].coef_[index] / model_transformer['standardscaler'].scale_[0] # Unstandarized coefficients for numerical columns odometer\n",
        "  elif feature_names[index] == 'standardscaler__year':\n",
        "    c = model_pipe['linreg'].coef_[index] / model_transformer['standardscaler'].scale_[1] # Unstandarized coefficients for numerical columns year\n",
        "  else:\n",
        "    c = model_pipe['linreg'].coef_[index]  # Coefficients for categorical variables (no need to unstandarized with OneHotEncoder)\n",
        "  coef.append({ 'Feature Name': feature_names[index], 'Coefficient': c })"
      ],
      "metadata": {
        "id": "7vQZDutSuvTY"
      },
      "execution_count": 110,
      "outputs": []
    },
    {
      "cell_type": "code",
      "source": [
        "categorical_subcolumns_short = ['title_status', 'transmission', 'type', 'condition', 'fuel', 'drive','paint_color', 'cylinders'] #OneHotEncoder on short list of values\n",
        "categorical_subcolumns_long = ['region', 'manufacturer', 'state'] # James Stein Encoder on features with long list of values more than 40\n",
        "model_transformer = make_column_transformer((OneHotEncoder(), categorical_subcolumns_short ),\n",
        "                                            (JamesSteinEncoder(), categorical_subcolumns_long),\n",
        "                                            (StandardScaler(), numerical_columns),\n",
        "                                            remainder='passthrough')\n",
        "model_pipe = Pipeline([('transformer', model_transformer), ('linreg', LinearRegression())])\n",
        "generate_model('Model with James Stein Encoder and Standard Scaler', model_pipe, X_train, X_test, y_train, y_test)\n"
      ],
      "metadata": {
        "colab": {
          "base_uri": "https://localhost:8080/"
        },
        "id": "apGf8vkupAjn",
        "outputId": "bd5a2d1b-1de4-4bbe-e5c3-2034ad6042f4"
      },
      "execution_count": 111,
      "outputs": [
        {
          "output_type": "stream",
          "name": "stdout",
          "text": [
            "Model with James Stein Encoder and Standard Scaler MAE Train:  7707.45\n",
            "Model with James Stein Encoder and Standard Scaler MAE Test:  7773.45\n",
            "Model with James Stein Encoder and Standard Scaler MSE Train:  120095244.56\n",
            "Model with James Stein Encoder and Standard Scaler MSE Test:  122158897.56\n",
            "Model with James Stein Encoder and Standard Scaler RMSE Train:  10958.80\n",
            "Model with James Stein Encoder and Standard Scaler RMSE Test:  11052.55\n",
            "Model with James Stein Encoder and Standard Scaler Determination coefficient:  0.42\n"
          ]
        }
      ]
    },
    {
      "cell_type": "markdown",
      "metadata": {
        "id": "5V7c1cqD8mpq"
      },
      "source": [
        "### Evaluation\n",
        "\n",
        "With some modeling accomplished, we aim to reflect on what we identify as a high-quality model and what we are able to learn from this.  We should review our business objective and explore how well we can provide meaningful insight into drivers of used car prices.  Your goal now is to distill your findings and determine whether the earlier phases need revisitation and adjustment or if you have information of value to bring back to your client."
      ]
    },
    {
      "cell_type": "markdown",
      "source": [
        "We evaluate the DataSet metrics that contain all the metrics generated after model fit and prediction"
      ],
      "metadata": {
        "id": "On5cVG8rfgRX"
      }
    },
    {
      "cell_type": "code",
      "execution_count": 112,
      "metadata": {
        "id": "f8zdfTXt8mpr",
        "colab": {
          "base_uri": "https://localhost:8080/",
          "height": 238
        },
        "outputId": "3d0b45c3-2149-4e66-bfec-5dc33f571615"
      },
      "outputs": [
        {
          "output_type": "execute_result",
          "data": {
            "text/plain": [
              "                                               Model    MAE Train  \\\n",
              "4     Model with One Hot Encoder and Standard Scaler  7577.417647   \n",
              "5  Model with James Stein Encoder and Standard Sc...  7707.445929   \n",
              "2                     Model with James Stein Encoder  7901.780219   \n",
              "0  Model with James Stein Encoder and Standard Sc...  7901.780219   \n",
              "1                         Model with One Hot Encoder  8361.863720   \n",
              "3  Model with One Hot Encoder and Polynomial Feat...  9961.392054   \n",
              "\n",
              "      MAE Test     MSE Train      MSE Test    RMSE Train     RMSE Test  \\\n",
              "4  7643.422172  1.166221e+08  1.188278e+08  10799.172955  10900.814373   \n",
              "5  7773.453615  1.200952e+08  1.221589e+08  10958.797587  11052.551631   \n",
              "2  7961.043362  1.237913e+08  1.258354e+08  11126.155942  11217.638617   \n",
              "0  7961.043362  1.237913e+08  1.258354e+08  11126.155942  11217.638617   \n",
              "1  8406.769633  1.357180e+08  1.375416e+08  11649.806664  11727.811519   \n",
              "3  9977.483247  1.776501e+08  1.798774e+08  13328.545901  13411.837541   \n",
              "\n",
              "   Determination coefficient  \n",
              "4                   0.439558  \n",
              "5                   0.423847  \n",
              "2                   0.406507  \n",
              "0                   0.406507  \n",
              "1                   0.351296  \n",
              "3                   0.151622  "
            ],
            "text/html": [
              "\n",
              "  <div id=\"df-79a72618-4d43-4cee-a457-877f678e0449\" class=\"colab-df-container\">\n",
              "    <div>\n",
              "<style scoped>\n",
              "    .dataframe tbody tr th:only-of-type {\n",
              "        vertical-align: middle;\n",
              "    }\n",
              "\n",
              "    .dataframe tbody tr th {\n",
              "        vertical-align: top;\n",
              "    }\n",
              "\n",
              "    .dataframe thead th {\n",
              "        text-align: right;\n",
              "    }\n",
              "</style>\n",
              "<table border=\"1\" class=\"dataframe\">\n",
              "  <thead>\n",
              "    <tr style=\"text-align: right;\">\n",
              "      <th></th>\n",
              "      <th>Model</th>\n",
              "      <th>MAE Train</th>\n",
              "      <th>MAE Test</th>\n",
              "      <th>MSE Train</th>\n",
              "      <th>MSE Test</th>\n",
              "      <th>RMSE Train</th>\n",
              "      <th>RMSE Test</th>\n",
              "      <th>Determination coefficient</th>\n",
              "    </tr>\n",
              "  </thead>\n",
              "  <tbody>\n",
              "    <tr>\n",
              "      <th>4</th>\n",
              "      <td>Model with One Hot Encoder and Standard Scaler</td>\n",
              "      <td>7577.417647</td>\n",
              "      <td>7643.422172</td>\n",
              "      <td>1.166221e+08</td>\n",
              "      <td>1.188278e+08</td>\n",
              "      <td>10799.172955</td>\n",
              "      <td>10900.814373</td>\n",
              "      <td>0.439558</td>\n",
              "    </tr>\n",
              "    <tr>\n",
              "      <th>5</th>\n",
              "      <td>Model with James Stein Encoder and Standard Sc...</td>\n",
              "      <td>7707.445929</td>\n",
              "      <td>7773.453615</td>\n",
              "      <td>1.200952e+08</td>\n",
              "      <td>1.221589e+08</td>\n",
              "      <td>10958.797587</td>\n",
              "      <td>11052.551631</td>\n",
              "      <td>0.423847</td>\n",
              "    </tr>\n",
              "    <tr>\n",
              "      <th>2</th>\n",
              "      <td>Model with James Stein Encoder</td>\n",
              "      <td>7901.780219</td>\n",
              "      <td>7961.043362</td>\n",
              "      <td>1.237913e+08</td>\n",
              "      <td>1.258354e+08</td>\n",
              "      <td>11126.155942</td>\n",
              "      <td>11217.638617</td>\n",
              "      <td>0.406507</td>\n",
              "    </tr>\n",
              "    <tr>\n",
              "      <th>0</th>\n",
              "      <td>Model with James Stein Encoder and Standard Sc...</td>\n",
              "      <td>7901.780219</td>\n",
              "      <td>7961.043362</td>\n",
              "      <td>1.237913e+08</td>\n",
              "      <td>1.258354e+08</td>\n",
              "      <td>11126.155942</td>\n",
              "      <td>11217.638617</td>\n",
              "      <td>0.406507</td>\n",
              "    </tr>\n",
              "    <tr>\n",
              "      <th>1</th>\n",
              "      <td>Model with One Hot Encoder</td>\n",
              "      <td>8361.863720</td>\n",
              "      <td>8406.769633</td>\n",
              "      <td>1.357180e+08</td>\n",
              "      <td>1.375416e+08</td>\n",
              "      <td>11649.806664</td>\n",
              "      <td>11727.811519</td>\n",
              "      <td>0.351296</td>\n",
              "    </tr>\n",
              "    <tr>\n",
              "      <th>3</th>\n",
              "      <td>Model with One Hot Encoder and Polynomial Feat...</td>\n",
              "      <td>9961.392054</td>\n",
              "      <td>9977.483247</td>\n",
              "      <td>1.776501e+08</td>\n",
              "      <td>1.798774e+08</td>\n",
              "      <td>13328.545901</td>\n",
              "      <td>13411.837541</td>\n",
              "      <td>0.151622</td>\n",
              "    </tr>\n",
              "  </tbody>\n",
              "</table>\n",
              "</div>\n",
              "    <div class=\"colab-df-buttons\">\n",
              "\n",
              "  <div class=\"colab-df-container\">\n",
              "    <button class=\"colab-df-convert\" onclick=\"convertToInteractive('df-79a72618-4d43-4cee-a457-877f678e0449')\"\n",
              "            title=\"Convert this dataframe to an interactive table.\"\n",
              "            style=\"display:none;\">\n",
              "\n",
              "  <svg xmlns=\"http://www.w3.org/2000/svg\" height=\"24px\" viewBox=\"0 -960 960 960\">\n",
              "    <path d=\"M120-120v-720h720v720H120Zm60-500h600v-160H180v160Zm220 220h160v-160H400v160Zm0 220h160v-160H400v160ZM180-400h160v-160H180v160Zm440 0h160v-160H620v160ZM180-180h160v-160H180v160Zm440 0h160v-160H620v160Z\"/>\n",
              "  </svg>\n",
              "    </button>\n",
              "\n",
              "  <style>\n",
              "    .colab-df-container {\n",
              "      display:flex;\n",
              "      gap: 12px;\n",
              "    }\n",
              "\n",
              "    .colab-df-convert {\n",
              "      background-color: #E8F0FE;\n",
              "      border: none;\n",
              "      border-radius: 50%;\n",
              "      cursor: pointer;\n",
              "      display: none;\n",
              "      fill: #1967D2;\n",
              "      height: 32px;\n",
              "      padding: 0 0 0 0;\n",
              "      width: 32px;\n",
              "    }\n",
              "\n",
              "    .colab-df-convert:hover {\n",
              "      background-color: #E2EBFA;\n",
              "      box-shadow: 0px 1px 2px rgba(60, 64, 67, 0.3), 0px 1px 3px 1px rgba(60, 64, 67, 0.15);\n",
              "      fill: #174EA6;\n",
              "    }\n",
              "\n",
              "    .colab-df-buttons div {\n",
              "      margin-bottom: 4px;\n",
              "    }\n",
              "\n",
              "    [theme=dark] .colab-df-convert {\n",
              "      background-color: #3B4455;\n",
              "      fill: #D2E3FC;\n",
              "    }\n",
              "\n",
              "    [theme=dark] .colab-df-convert:hover {\n",
              "      background-color: #434B5C;\n",
              "      box-shadow: 0px 1px 3px 1px rgba(0, 0, 0, 0.15);\n",
              "      filter: drop-shadow(0px 1px 2px rgba(0, 0, 0, 0.3));\n",
              "      fill: #FFFFFF;\n",
              "    }\n",
              "  </style>\n",
              "\n",
              "    <script>\n",
              "      const buttonEl =\n",
              "        document.querySelector('#df-79a72618-4d43-4cee-a457-877f678e0449 button.colab-df-convert');\n",
              "      buttonEl.style.display =\n",
              "        google.colab.kernel.accessAllowed ? 'block' : 'none';\n",
              "\n",
              "      async function convertToInteractive(key) {\n",
              "        const element = document.querySelector('#df-79a72618-4d43-4cee-a457-877f678e0449');\n",
              "        const dataTable =\n",
              "          await google.colab.kernel.invokeFunction('convertToInteractive',\n",
              "                                                    [key], {});\n",
              "        if (!dataTable) return;\n",
              "\n",
              "        const docLinkHtml = 'Like what you see? Visit the ' +\n",
              "          '<a target=\"_blank\" href=https://colab.research.google.com/notebooks/data_table.ipynb>data table notebook</a>'\n",
              "          + ' to learn more about interactive tables.';\n",
              "        element.innerHTML = '';\n",
              "        dataTable['output_type'] = 'display_data';\n",
              "        await google.colab.output.renderOutput(dataTable, element);\n",
              "        const docLink = document.createElement('div');\n",
              "        docLink.innerHTML = docLinkHtml;\n",
              "        element.appendChild(docLink);\n",
              "      }\n",
              "    </script>\n",
              "  </div>\n",
              "\n",
              "\n",
              "<div id=\"df-00edbe42-242c-46bb-8822-f4cb919a1b70\">\n",
              "  <button class=\"colab-df-quickchart\" onclick=\"quickchart('df-00edbe42-242c-46bb-8822-f4cb919a1b70')\"\n",
              "            title=\"Suggest charts\"\n",
              "            style=\"display:none;\">\n",
              "\n",
              "<svg xmlns=\"http://www.w3.org/2000/svg\" height=\"24px\"viewBox=\"0 0 24 24\"\n",
              "     width=\"24px\">\n",
              "    <g>\n",
              "        <path d=\"M19 3H5c-1.1 0-2 .9-2 2v14c0 1.1.9 2 2 2h14c1.1 0 2-.9 2-2V5c0-1.1-.9-2-2-2zM9 17H7v-7h2v7zm4 0h-2V7h2v10zm4 0h-2v-4h2v4z\"/>\n",
              "    </g>\n",
              "</svg>\n",
              "  </button>\n",
              "\n",
              "<style>\n",
              "  .colab-df-quickchart {\n",
              "      --bg-color: #E8F0FE;\n",
              "      --fill-color: #1967D2;\n",
              "      --hover-bg-color: #E2EBFA;\n",
              "      --hover-fill-color: #174EA6;\n",
              "      --disabled-fill-color: #AAA;\n",
              "      --disabled-bg-color: #DDD;\n",
              "  }\n",
              "\n",
              "  [theme=dark] .colab-df-quickchart {\n",
              "      --bg-color: #3B4455;\n",
              "      --fill-color: #D2E3FC;\n",
              "      --hover-bg-color: #434B5C;\n",
              "      --hover-fill-color: #FFFFFF;\n",
              "      --disabled-bg-color: #3B4455;\n",
              "      --disabled-fill-color: #666;\n",
              "  }\n",
              "\n",
              "  .colab-df-quickchart {\n",
              "    background-color: var(--bg-color);\n",
              "    border: none;\n",
              "    border-radius: 50%;\n",
              "    cursor: pointer;\n",
              "    display: none;\n",
              "    fill: var(--fill-color);\n",
              "    height: 32px;\n",
              "    padding: 0;\n",
              "    width: 32px;\n",
              "  }\n",
              "\n",
              "  .colab-df-quickchart:hover {\n",
              "    background-color: var(--hover-bg-color);\n",
              "    box-shadow: 0 1px 2px rgba(60, 64, 67, 0.3), 0 1px 3px 1px rgba(60, 64, 67, 0.15);\n",
              "    fill: var(--button-hover-fill-color);\n",
              "  }\n",
              "\n",
              "  .colab-df-quickchart-complete:disabled,\n",
              "  .colab-df-quickchart-complete:disabled:hover {\n",
              "    background-color: var(--disabled-bg-color);\n",
              "    fill: var(--disabled-fill-color);\n",
              "    box-shadow: none;\n",
              "  }\n",
              "\n",
              "  .colab-df-spinner {\n",
              "    border: 2px solid var(--fill-color);\n",
              "    border-color: transparent;\n",
              "    border-bottom-color: var(--fill-color);\n",
              "    animation:\n",
              "      spin 1s steps(1) infinite;\n",
              "  }\n",
              "\n",
              "  @keyframes spin {\n",
              "    0% {\n",
              "      border-color: transparent;\n",
              "      border-bottom-color: var(--fill-color);\n",
              "      border-left-color: var(--fill-color);\n",
              "    }\n",
              "    20% {\n",
              "      border-color: transparent;\n",
              "      border-left-color: var(--fill-color);\n",
              "      border-top-color: var(--fill-color);\n",
              "    }\n",
              "    30% {\n",
              "      border-color: transparent;\n",
              "      border-left-color: var(--fill-color);\n",
              "      border-top-color: var(--fill-color);\n",
              "      border-right-color: var(--fill-color);\n",
              "    }\n",
              "    40% {\n",
              "      border-color: transparent;\n",
              "      border-right-color: var(--fill-color);\n",
              "      border-top-color: var(--fill-color);\n",
              "    }\n",
              "    60% {\n",
              "      border-color: transparent;\n",
              "      border-right-color: var(--fill-color);\n",
              "    }\n",
              "    80% {\n",
              "      border-color: transparent;\n",
              "      border-right-color: var(--fill-color);\n",
              "      border-bottom-color: var(--fill-color);\n",
              "    }\n",
              "    90% {\n",
              "      border-color: transparent;\n",
              "      border-bottom-color: var(--fill-color);\n",
              "    }\n",
              "  }\n",
              "</style>\n",
              "\n",
              "  <script>\n",
              "    async function quickchart(key) {\n",
              "      const quickchartButtonEl =\n",
              "        document.querySelector('#' + key + ' button');\n",
              "      quickchartButtonEl.disabled = true;  // To prevent multiple clicks.\n",
              "      quickchartButtonEl.classList.add('colab-df-spinner');\n",
              "      try {\n",
              "        const charts = await google.colab.kernel.invokeFunction(\n",
              "            'suggestCharts', [key], {});\n",
              "      } catch (error) {\n",
              "        console.error('Error during call to suggestCharts:', error);\n",
              "      }\n",
              "      quickchartButtonEl.classList.remove('colab-df-spinner');\n",
              "      quickchartButtonEl.classList.add('colab-df-quickchart-complete');\n",
              "    }\n",
              "    (() => {\n",
              "      let quickchartButtonEl =\n",
              "        document.querySelector('#df-00edbe42-242c-46bb-8822-f4cb919a1b70 button');\n",
              "      quickchartButtonEl.style.display =\n",
              "        google.colab.kernel.accessAllowed ? 'block' : 'none';\n",
              "    })();\n",
              "  </script>\n",
              "</div>\n",
              "\n",
              "    </div>\n",
              "  </div>\n"
            ],
            "application/vnd.google.colaboratory.intrinsic+json": {
              "type": "dataframe",
              "summary": "{\n  \"name\": \"pd\",\n  \"rows\": 6,\n  \"fields\": [\n    {\n      \"column\": \"Model\",\n      \"properties\": {\n        \"dtype\": \"string\",\n        \"num_unique_values\": 5,\n        \"samples\": [\n          \"Model with James Stein Encoder and Standard Scaler\",\n          \"Model with One Hot Encoder and Polynomial Features\",\n          \"Model with James Stein Encoder\"\n        ],\n        \"semantic_type\": \"\",\n        \"description\": \"\"\n      }\n    },\n    {\n      \"column\": \"MAE Train\",\n      \"properties\": {\n        \"dtype\": \"number\",\n        \"std\": 886.4899490634036,\n        \"min\": 7577.4176470025905,\n        \"max\": 9961.392053561603,\n        \"num_unique_values\": 6,\n        \"samples\": [\n          7577.4176470025905,\n          7707.445929293438,\n          9961.392053561603\n        ],\n        \"semantic_type\": \"\",\n        \"description\": \"\"\n      }\n    },\n    {\n      \"column\": \"MAE Test\",\n      \"properties\": {\n        \"dtype\": \"number\",\n        \"std\": 867.4671057911306,\n        \"min\": 7643.422171708338,\n        \"max\": 9977.4832471564,\n        \"num_unique_values\": 6,\n        \"samples\": [\n          7643.422171708338,\n          7773.453614661155,\n          9977.4832471564\n        ],\n        \"semantic_type\": \"\",\n        \"description\": \"\"\n      }\n    },\n    {\n      \"column\": \"MSE Train\",\n      \"properties\": {\n        \"dtype\": \"number\",\n        \"std\": 22827043.268473834,\n        \"min\": 116622136.51299314,\n        \"max\": 177650135.84561762,\n        \"num_unique_values\": 6,\n        \"samples\": [\n          116622136.51299314,\n          120095244.55822894,\n          177650135.84561762\n        ],\n        \"semantic_type\": \"\",\n        \"description\": \"\"\n      }\n    },\n    {\n      \"column\": \"MSE Test\",\n      \"properties\": {\n        \"dtype\": \"number\",\n        \"std\": 22868550.507440913,\n        \"min\": 118827754.00491096,\n        \"max\": 179877386.23779678,\n        \"num_unique_values\": 6,\n        \"samples\": [\n          118827754.00491096,\n          122158897.55875394,\n          179877386.23779678\n        ],\n        \"semantic_type\": \"\",\n        \"description\": \"\"\n      }\n    },\n    {\n      \"column\": \"RMSE Train\",\n      \"properties\": {\n        \"dtype\": \"number\",\n        \"std\": 941.2308941250652,\n        \"min\": 10799.172955045824,\n        \"max\": 13328.545901395906,\n        \"num_unique_values\": 6,\n        \"samples\": [\n          10799.172955045824,\n          10958.797587246008,\n          13328.545901395906\n        ],\n        \"semantic_type\": \"\",\n        \"description\": \"\"\n      }\n    },\n    {\n      \"column\": \"RMSE Test\",\n      \"properties\": {\n        \"dtype\": \"number\",\n        \"std\": 935.8626793853576,\n        \"min\": 10900.81437347279,\n        \"max\": 13411.837541433195,\n        \"num_unique_values\": 6,\n        \"samples\": [\n          10900.81437347279,\n          11052.551631128168,\n          13411.837541433195\n        ],\n        \"semantic_type\": \"\",\n        \"description\": \"\"\n      }\n    },\n    {\n      \"column\": \"Determination coefficient\",\n      \"properties\": {\n        \"dtype\": \"number\",\n        \"std\": 0.10785775172870093,\n        \"min\": 0.1516222044711043,\n        \"max\": 0.439558078428686,\n        \"num_unique_values\": 6,\n        \"samples\": [\n          0.439558078428686,\n          0.4238469972088179,\n          0.1516222044711043\n        ],\n        \"semantic_type\": \"\",\n        \"description\": \"\"\n      }\n    }\n  ]\n}"
            }
          },
          "metadata": {},
          "execution_count": 112
        }
      ],
      "source": [
        "pd.DataFrame(metrics).sort_values('Determination coefficient', ascending=False)"
      ]
    },
    {
      "cell_type": "markdown",
      "source": [
        "Initially we evaluate the first model with:\n",
        "  - Categorical feautures: Jame Stein Encoder\n",
        "  - Numerical feautures: Standard Escalar\n",
        "  - Data was evaluate without eliminating price outliers.\n",
        "\n",
        "The result was:\n",
        "  - (Root Mean Squared Error): 10,817,237.93\n",
        "  Interpretation: In this case, an RMSE of 10,817,237.93 means that, on average, the model is off by about 10,817,237.93 when predicting price\n",
        "  - R² (Coefficient of Determination): -0.00108\n",
        "  Interpretation: R² indicates the proportion of the variance in the data that is explained by the model. An R² of -0.00108 means that 0.108% of the variation in price can be explained by the variables in the model.\n",
        "\n",
        "*An R² close to 1 indicates that the model has a very good fit. In this case, a value close to 0 is a sign that the model is not capturing a significant amount of the variability in the data.*\n",
        "\n",
        "Because of that we revisit Data Understanding and Data Preparation, evaluate price histogram and eliminate Price Outliers (price > $100,000).\n",
        "\n",
        "  - Result: A very significant increase in root mean squared error.\n",
        "\n",
        "  - (Root Mean Squared Error): Improving the model significantly to 11,217 meaning that, on average, the model is off by $11,217 when predicting price.\n",
        "\n",
        "  - R² (Coefficient of Determination): 0.406 mean that, 41% of the variation in price can be explained by the variables in the model.\n",
        "\n",
        "**It's impressive how this change meant such a big improvement on the model**\n",
        "\n",
        "\n",
        "For this reason, we removed outliers on the calculation of all the models shown, even the one with the most significant representation of the Data."
      ],
      "metadata": {
        "id": "gDRFTG13ftle"
      }
    },
    {
      "cell_type": "markdown",
      "source": [
        "# *Finding:* **One Hot Encoder** on categorical columns and **Standard Scaler** on numerical features is the best model that we found so far.\n",
        "Result:\n",
        "\n",
        "**(Root Mean Squared Error):**  10900.81 meaning that, on average, the model is off by $10900.81 when predicting price.\n",
        "\n",
        "**R² (Coefficient of Determination):** 44% of the variation in price can be explained by the variables in the model."
      ],
      "metadata": {
        "id": "quPhegxYeWZw"
      }
    },
    {
      "cell_type": "markdown",
      "metadata": {
        "id": "mhdrSf8S8mpr"
      },
      "source": [
        "### Deployment\n",
        "\n",
        "Now that we've settled on our models and findings, it is time to deliver the information to the client.  You should organize your work as a basic report that details your primary findings.  Keep in mind that your audience is a group of used car dealers interested in fine-tuning their inventory."
      ]
    },
    {
      "cell_type": "markdown",
      "source": [
        "The best model we found explains 44% of the variation in used car prices based on the variables included. With a coefficient of determination (R²) of only 0.44, the model is not perfect, but it provides some useful insights into the factors influencing used car prices. However, to make more reliable decisions, it's important to enhance the model using techniques such as:\n",
        "\n",
        "  - Adding interactions or new features: Gaining a deeper understanding of the business can help identify additional data points that might significantly impact the model. For example, the high number of odometer readings equal to zero raises questions. While we chose to remove these records, there could be a specific reason behind this anomaly that warrants further investigation.\n",
        "\n",
        "  - Refining business knowledge for decision-making: It's essential to collaborate with stakeholders to determine which elements of the data may be irrelevant or redundant for our model. For instance, by working with sellers, we could define a specific price range of used cars that should be considered in our analysis to ensure that the model focuses on the most relevant information.\n",
        "\n",
        "  - Exploring more complex models: We could consider implementing more advanced models that require higher computational power, which might offer better performance and insights.\n",
        "\n",
        "Despite its limitations, this model still provides valuable information on the factors that affect used car prices. For example, cars from manufacturers like Ferrari significantly increase the price of used cars. We also see that used cars in states like Kentucky, and regions such as Klamath Falls and West Virginia (Old), are sold at notably lower prices compared to other areas. Similarly, manufacturers like Harley Davidson, Fiat, Saturn, and Mitsubishi tend to offer used cars at much lower prices."
      ],
      "metadata": {
        "id": "YH6S5aZEjxVK"
      }
    },
    {
      "cell_type": "code",
      "execution_count": 113,
      "metadata": {
        "id": "i7qfu0Tk8mpr",
        "colab": {
          "base_uri": "https://localhost:8080/",
          "height": 677
        },
        "outputId": "5f377c56-4561-4700-f41a-de8f3a949657"
      },
      "outputs": [
        {
          "output_type": "execute_result",
          "data": {
            "text/plain": [
              "                                      Feature Name   Coefficient\n",
              "519                        onehotencoder__state_ky -11182.124820\n",
              "475    onehotencoder__manufacturer_harley-davidson  -9409.803933\n",
              "472               onehotencoder__manufacturer_fiat  -8652.783398\n",
              "228            onehotencoder__region_klamath falls  -8486.724390\n",
              "496             onehotencoder__manufacturer_saturn  -8388.494743\n",
              "489         onehotencoder__manufacturer_mitsubishi  -7806.605214\n",
              "440      onehotencoder__region_west virginia (old)  -7124.838951\n",
              "10                         onehotencoder__type_bus  -7075.119896\n",
              "23                   onehotencoder__condition_fair  -6467.345467\n",
              "424               onehotencoder__region_twin falls  -6356.683905\n",
              "442               onehotencoder__region_western KY  10737.572898\n",
              "93             onehotencoder__region_bowling green  11623.541559\n",
              "49           onehotencoder__cylinders_12 cylinders  11663.666405\n",
              "247                onehotencoder__region_lexington  11790.154330\n",
              "147         onehotencoder__region_eastern kentucky  12057.336195\n",
              "318                onehotencoder__region_owensboro  12765.239877\n",
              "366  onehotencoder__region_scottsbluff / panhandle  13748.798016\n",
              "462       onehotencoder__manufacturer_aston-martin  14138.778617\n",
              "498              onehotencoder__manufacturer_tesla  14287.303364\n",
              "471            onehotencoder__manufacturer_ferrari  46107.915798"
            ],
            "text/html": [
              "\n",
              "  <div id=\"df-6bbf5a50-57fd-4371-ba18-61242e1a0758\" class=\"colab-df-container\">\n",
              "    <div>\n",
              "<style scoped>\n",
              "    .dataframe tbody tr th:only-of-type {\n",
              "        vertical-align: middle;\n",
              "    }\n",
              "\n",
              "    .dataframe tbody tr th {\n",
              "        vertical-align: top;\n",
              "    }\n",
              "\n",
              "    .dataframe thead th {\n",
              "        text-align: right;\n",
              "    }\n",
              "</style>\n",
              "<table border=\"1\" class=\"dataframe\">\n",
              "  <thead>\n",
              "    <tr style=\"text-align: right;\">\n",
              "      <th></th>\n",
              "      <th>Feature Name</th>\n",
              "      <th>Coefficient</th>\n",
              "    </tr>\n",
              "  </thead>\n",
              "  <tbody>\n",
              "    <tr>\n",
              "      <th>519</th>\n",
              "      <td>onehotencoder__state_ky</td>\n",
              "      <td>-11182.124820</td>\n",
              "    </tr>\n",
              "    <tr>\n",
              "      <th>475</th>\n",
              "      <td>onehotencoder__manufacturer_harley-davidson</td>\n",
              "      <td>-9409.803933</td>\n",
              "    </tr>\n",
              "    <tr>\n",
              "      <th>472</th>\n",
              "      <td>onehotencoder__manufacturer_fiat</td>\n",
              "      <td>-8652.783398</td>\n",
              "    </tr>\n",
              "    <tr>\n",
              "      <th>228</th>\n",
              "      <td>onehotencoder__region_klamath falls</td>\n",
              "      <td>-8486.724390</td>\n",
              "    </tr>\n",
              "    <tr>\n",
              "      <th>496</th>\n",
              "      <td>onehotencoder__manufacturer_saturn</td>\n",
              "      <td>-8388.494743</td>\n",
              "    </tr>\n",
              "    <tr>\n",
              "      <th>489</th>\n",
              "      <td>onehotencoder__manufacturer_mitsubishi</td>\n",
              "      <td>-7806.605214</td>\n",
              "    </tr>\n",
              "    <tr>\n",
              "      <th>440</th>\n",
              "      <td>onehotencoder__region_west virginia (old)</td>\n",
              "      <td>-7124.838951</td>\n",
              "    </tr>\n",
              "    <tr>\n",
              "      <th>10</th>\n",
              "      <td>onehotencoder__type_bus</td>\n",
              "      <td>-7075.119896</td>\n",
              "    </tr>\n",
              "    <tr>\n",
              "      <th>23</th>\n",
              "      <td>onehotencoder__condition_fair</td>\n",
              "      <td>-6467.345467</td>\n",
              "    </tr>\n",
              "    <tr>\n",
              "      <th>424</th>\n",
              "      <td>onehotencoder__region_twin falls</td>\n",
              "      <td>-6356.683905</td>\n",
              "    </tr>\n",
              "    <tr>\n",
              "      <th>442</th>\n",
              "      <td>onehotencoder__region_western KY</td>\n",
              "      <td>10737.572898</td>\n",
              "    </tr>\n",
              "    <tr>\n",
              "      <th>93</th>\n",
              "      <td>onehotencoder__region_bowling green</td>\n",
              "      <td>11623.541559</td>\n",
              "    </tr>\n",
              "    <tr>\n",
              "      <th>49</th>\n",
              "      <td>onehotencoder__cylinders_12 cylinders</td>\n",
              "      <td>11663.666405</td>\n",
              "    </tr>\n",
              "    <tr>\n",
              "      <th>247</th>\n",
              "      <td>onehotencoder__region_lexington</td>\n",
              "      <td>11790.154330</td>\n",
              "    </tr>\n",
              "    <tr>\n",
              "      <th>147</th>\n",
              "      <td>onehotencoder__region_eastern kentucky</td>\n",
              "      <td>12057.336195</td>\n",
              "    </tr>\n",
              "    <tr>\n",
              "      <th>318</th>\n",
              "      <td>onehotencoder__region_owensboro</td>\n",
              "      <td>12765.239877</td>\n",
              "    </tr>\n",
              "    <tr>\n",
              "      <th>366</th>\n",
              "      <td>onehotencoder__region_scottsbluff / panhandle</td>\n",
              "      <td>13748.798016</td>\n",
              "    </tr>\n",
              "    <tr>\n",
              "      <th>462</th>\n",
              "      <td>onehotencoder__manufacturer_aston-martin</td>\n",
              "      <td>14138.778617</td>\n",
              "    </tr>\n",
              "    <tr>\n",
              "      <th>498</th>\n",
              "      <td>onehotencoder__manufacturer_tesla</td>\n",
              "      <td>14287.303364</td>\n",
              "    </tr>\n",
              "    <tr>\n",
              "      <th>471</th>\n",
              "      <td>onehotencoder__manufacturer_ferrari</td>\n",
              "      <td>46107.915798</td>\n",
              "    </tr>\n",
              "  </tbody>\n",
              "</table>\n",
              "</div>\n",
              "    <div class=\"colab-df-buttons\">\n",
              "\n",
              "  <div class=\"colab-df-container\">\n",
              "    <button class=\"colab-df-convert\" onclick=\"convertToInteractive('df-6bbf5a50-57fd-4371-ba18-61242e1a0758')\"\n",
              "            title=\"Convert this dataframe to an interactive table.\"\n",
              "            style=\"display:none;\">\n",
              "\n",
              "  <svg xmlns=\"http://www.w3.org/2000/svg\" height=\"24px\" viewBox=\"0 -960 960 960\">\n",
              "    <path d=\"M120-120v-720h720v720H120Zm60-500h600v-160H180v160Zm220 220h160v-160H400v160Zm0 220h160v-160H400v160ZM180-400h160v-160H180v160Zm440 0h160v-160H620v160ZM180-180h160v-160H180v160Zm440 0h160v-160H620v160Z\"/>\n",
              "  </svg>\n",
              "    </button>\n",
              "\n",
              "  <style>\n",
              "    .colab-df-container {\n",
              "      display:flex;\n",
              "      gap: 12px;\n",
              "    }\n",
              "\n",
              "    .colab-df-convert {\n",
              "      background-color: #E8F0FE;\n",
              "      border: none;\n",
              "      border-radius: 50%;\n",
              "      cursor: pointer;\n",
              "      display: none;\n",
              "      fill: #1967D2;\n",
              "      height: 32px;\n",
              "      padding: 0 0 0 0;\n",
              "      width: 32px;\n",
              "    }\n",
              "\n",
              "    .colab-df-convert:hover {\n",
              "      background-color: #E2EBFA;\n",
              "      box-shadow: 0px 1px 2px rgba(60, 64, 67, 0.3), 0px 1px 3px 1px rgba(60, 64, 67, 0.15);\n",
              "      fill: #174EA6;\n",
              "    }\n",
              "\n",
              "    .colab-df-buttons div {\n",
              "      margin-bottom: 4px;\n",
              "    }\n",
              "\n",
              "    [theme=dark] .colab-df-convert {\n",
              "      background-color: #3B4455;\n",
              "      fill: #D2E3FC;\n",
              "    }\n",
              "\n",
              "    [theme=dark] .colab-df-convert:hover {\n",
              "      background-color: #434B5C;\n",
              "      box-shadow: 0px 1px 3px 1px rgba(0, 0, 0, 0.15);\n",
              "      filter: drop-shadow(0px 1px 2px rgba(0, 0, 0, 0.3));\n",
              "      fill: #FFFFFF;\n",
              "    }\n",
              "  </style>\n",
              "\n",
              "    <script>\n",
              "      const buttonEl =\n",
              "        document.querySelector('#df-6bbf5a50-57fd-4371-ba18-61242e1a0758 button.colab-df-convert');\n",
              "      buttonEl.style.display =\n",
              "        google.colab.kernel.accessAllowed ? 'block' : 'none';\n",
              "\n",
              "      async function convertToInteractive(key) {\n",
              "        const element = document.querySelector('#df-6bbf5a50-57fd-4371-ba18-61242e1a0758');\n",
              "        const dataTable =\n",
              "          await google.colab.kernel.invokeFunction('convertToInteractive',\n",
              "                                                    [key], {});\n",
              "        if (!dataTable) return;\n",
              "\n",
              "        const docLinkHtml = 'Like what you see? Visit the ' +\n",
              "          '<a target=\"_blank\" href=https://colab.research.google.com/notebooks/data_table.ipynb>data table notebook</a>'\n",
              "          + ' to learn more about interactive tables.';\n",
              "        element.innerHTML = '';\n",
              "        dataTable['output_type'] = 'display_data';\n",
              "        await google.colab.output.renderOutput(dataTable, element);\n",
              "        const docLink = document.createElement('div');\n",
              "        docLink.innerHTML = docLinkHtml;\n",
              "        element.appendChild(docLink);\n",
              "      }\n",
              "    </script>\n",
              "  </div>\n",
              "\n",
              "\n",
              "<div id=\"df-7d6bd29e-0ced-49d1-8e16-7ad70ef8c6ef\">\n",
              "  <button class=\"colab-df-quickchart\" onclick=\"quickchart('df-7d6bd29e-0ced-49d1-8e16-7ad70ef8c6ef')\"\n",
              "            title=\"Suggest charts\"\n",
              "            style=\"display:none;\">\n",
              "\n",
              "<svg xmlns=\"http://www.w3.org/2000/svg\" height=\"24px\"viewBox=\"0 0 24 24\"\n",
              "     width=\"24px\">\n",
              "    <g>\n",
              "        <path d=\"M19 3H5c-1.1 0-2 .9-2 2v14c0 1.1.9 2 2 2h14c1.1 0 2-.9 2-2V5c0-1.1-.9-2-2-2zM9 17H7v-7h2v7zm4 0h-2V7h2v10zm4 0h-2v-4h2v4z\"/>\n",
              "    </g>\n",
              "</svg>\n",
              "  </button>\n",
              "\n",
              "<style>\n",
              "  .colab-df-quickchart {\n",
              "      --bg-color: #E8F0FE;\n",
              "      --fill-color: #1967D2;\n",
              "      --hover-bg-color: #E2EBFA;\n",
              "      --hover-fill-color: #174EA6;\n",
              "      --disabled-fill-color: #AAA;\n",
              "      --disabled-bg-color: #DDD;\n",
              "  }\n",
              "\n",
              "  [theme=dark] .colab-df-quickchart {\n",
              "      --bg-color: #3B4455;\n",
              "      --fill-color: #D2E3FC;\n",
              "      --hover-bg-color: #434B5C;\n",
              "      --hover-fill-color: #FFFFFF;\n",
              "      --disabled-bg-color: #3B4455;\n",
              "      --disabled-fill-color: #666;\n",
              "  }\n",
              "\n",
              "  .colab-df-quickchart {\n",
              "    background-color: var(--bg-color);\n",
              "    border: none;\n",
              "    border-radius: 50%;\n",
              "    cursor: pointer;\n",
              "    display: none;\n",
              "    fill: var(--fill-color);\n",
              "    height: 32px;\n",
              "    padding: 0;\n",
              "    width: 32px;\n",
              "  }\n",
              "\n",
              "  .colab-df-quickchart:hover {\n",
              "    background-color: var(--hover-bg-color);\n",
              "    box-shadow: 0 1px 2px rgba(60, 64, 67, 0.3), 0 1px 3px 1px rgba(60, 64, 67, 0.15);\n",
              "    fill: var(--button-hover-fill-color);\n",
              "  }\n",
              "\n",
              "  .colab-df-quickchart-complete:disabled,\n",
              "  .colab-df-quickchart-complete:disabled:hover {\n",
              "    background-color: var(--disabled-bg-color);\n",
              "    fill: var(--disabled-fill-color);\n",
              "    box-shadow: none;\n",
              "  }\n",
              "\n",
              "  .colab-df-spinner {\n",
              "    border: 2px solid var(--fill-color);\n",
              "    border-color: transparent;\n",
              "    border-bottom-color: var(--fill-color);\n",
              "    animation:\n",
              "      spin 1s steps(1) infinite;\n",
              "  }\n",
              "\n",
              "  @keyframes spin {\n",
              "    0% {\n",
              "      border-color: transparent;\n",
              "      border-bottom-color: var(--fill-color);\n",
              "      border-left-color: var(--fill-color);\n",
              "    }\n",
              "    20% {\n",
              "      border-color: transparent;\n",
              "      border-left-color: var(--fill-color);\n",
              "      border-top-color: var(--fill-color);\n",
              "    }\n",
              "    30% {\n",
              "      border-color: transparent;\n",
              "      border-left-color: var(--fill-color);\n",
              "      border-top-color: var(--fill-color);\n",
              "      border-right-color: var(--fill-color);\n",
              "    }\n",
              "    40% {\n",
              "      border-color: transparent;\n",
              "      border-right-color: var(--fill-color);\n",
              "      border-top-color: var(--fill-color);\n",
              "    }\n",
              "    60% {\n",
              "      border-color: transparent;\n",
              "      border-right-color: var(--fill-color);\n",
              "    }\n",
              "    80% {\n",
              "      border-color: transparent;\n",
              "      border-right-color: var(--fill-color);\n",
              "      border-bottom-color: var(--fill-color);\n",
              "    }\n",
              "    90% {\n",
              "      border-color: transparent;\n",
              "      border-bottom-color: var(--fill-color);\n",
              "    }\n",
              "  }\n",
              "</style>\n",
              "\n",
              "  <script>\n",
              "    async function quickchart(key) {\n",
              "      const quickchartButtonEl =\n",
              "        document.querySelector('#' + key + ' button');\n",
              "      quickchartButtonEl.disabled = true;  // To prevent multiple clicks.\n",
              "      quickchartButtonEl.classList.add('colab-df-spinner');\n",
              "      try {\n",
              "        const charts = await google.colab.kernel.invokeFunction(\n",
              "            'suggestCharts', [key], {});\n",
              "      } catch (error) {\n",
              "        console.error('Error during call to suggestCharts:', error);\n",
              "      }\n",
              "      quickchartButtonEl.classList.remove('colab-df-spinner');\n",
              "      quickchartButtonEl.classList.add('colab-df-quickchart-complete');\n",
              "    }\n",
              "    (() => {\n",
              "      let quickchartButtonEl =\n",
              "        document.querySelector('#df-7d6bd29e-0ced-49d1-8e16-7ad70ef8c6ef button');\n",
              "      quickchartButtonEl.style.display =\n",
              "        google.colab.kernel.accessAllowed ? 'block' : 'none';\n",
              "    })();\n",
              "  </script>\n",
              "</div>\n",
              "\n",
              "    </div>\n",
              "  </div>\n"
            ],
            "application/vnd.google.colaboratory.intrinsic+json": {
              "type": "dataframe",
              "summary": "{\n  \"name\": \"pd\",\n  \"rows\": 20,\n  \"fields\": [\n    {\n      \"column\": \"Feature Name\",\n      \"properties\": {\n        \"dtype\": \"string\",\n        \"num_unique_values\": 20,\n        \"samples\": [\n          \"onehotencoder__state_ky\",\n          \"onehotencoder__manufacturer_aston-martin\",\n          \"onehotencoder__region_owensboro\"\n        ],\n        \"semantic_type\": \"\",\n        \"description\": \"\"\n      }\n    },\n    {\n      \"column\": \"Coefficient\",\n      \"properties\": {\n        \"dtype\": \"number\",\n        \"std\": 14370.406158578204,\n        \"min\": -11182.12481971207,\n        \"max\": 46107.91579796084,\n        \"num_unique_values\": 20,\n        \"samples\": [\n          -11182.12481971207,\n          14138.778617384247,\n          12765.239877335493\n        ],\n        \"semantic_type\": \"\",\n        \"description\": \"\"\n      }\n    }\n  ]\n}"
            }
          },
          "metadata": {},
          "execution_count": 113
        }
      ],
      "source": [
        "coef_df = pd.DataFrame(coef).sort_values('Coefficient')\n",
        "pd.concat([coef_df.head(10), coef_df.tail(10)])\n"
      ]
    }
  ],
  "metadata": {
    "kernelspec": {
      "display_name": "Python 3",
      "language": "python",
      "name": "python3"
    },
    "language_info": {
      "codemirror_mode": {
        "name": "ipython",
        "version": 3
      },
      "file_extension": ".py",
      "mimetype": "text/x-python",
      "name": "python",
      "nbconvert_exporter": "python",
      "pygments_lexer": "ipython3",
      "version": "3.8.8"
    },
    "colab": {
      "provenance": []
    }
  },
  "nbformat": 4,
  "nbformat_minor": 0
}